{
 "cells": [
  {
   "cell_type": "markdown",
   "metadata": {
    "application/vnd.databricks.v1+cell": {
     "cellMetadata": {},
     "inputWidgets": {},
     "nuid": "8dc4b4f3-9927-4232-8176-74c50a187417",
     "showTitle": false,
     "title": ""
    }
   },
   "source": [
    "##CREACIÓN DE UN DATAFRAME DESDE CERO"
   ]
  },
  {
   "cell_type": "code",
   "execution_count": 0,
   "metadata": {
    "application/vnd.databricks.v1+cell": {
     "cellMetadata": {
      "byteLimit": 2048000,
      "rowLimit": 10000
     },
     "inputWidgets": {},
     "nuid": "39388d82-678a-4932-adfb-9ec44cec70b7",
     "showTitle": false,
     "title": ""
    }
   },
   "outputs": [],
   "source": [
    "# creamos una lista desde 0, con valores string, int y además valores nulos\n",
    "datos = [(None,'Smith   ','36636','M',3500),\n",
    "         ('Michael','   Rose','40288','M',4750),\n",
    "         ('Robert','Williams','42114','M',None),\n",
    "         ('Maria','    Jones    ','39192','F',4000)\n",
    "        ]"
   ]
  },
  {
   "cell_type": "code",
   "execution_count": 0,
   "metadata": {
    "application/vnd.databricks.v1+cell": {
     "cellMetadata": {
      "byteLimit": 2048000,
      "rowLimit": 10000
     },
     "inputWidgets": {},
     "nuid": "9a6f55bc-a795-4f31-bb6e-8abef3b7fa3d",
     "showTitle": false,
     "title": ""
    }
   },
   "outputs": [
    {
     "output_type": "stream",
     "name": "stdout",
     "output_type": "stream",
     "text": [
      "Out[7]: StructType([StructField('firstname', StringType(), True), StructField('lastname', StringType(), False), StructField('id', StringType(), False), StructField('gender', StringType(), True), StructField('salary', IntegerType(), True)])"
     ]
    }
   ],
   "source": [
    "from pyspark.sql.types import StructType, StructField, StringType, IntegerType\n",
    "# pyspark necesita un esquema para organizarse. lo definimos:\n",
    "esquema = StructType([\n",
    "    StructField('firstname', StringType(), True),\n",
    "    StructField('lastname', StringType(), False),\n",
    "    StructField('id', StringType(), False),\n",
    "    StructField('gender', StringType(), True),\n",
    "    StructField('salary', IntegerType(), True)\n",
    "])"
   ]
  },
  {
   "cell_type": "code",
   "execution_count": 0,
   "metadata": {
    "application/vnd.databricks.v1+cell": {
     "cellMetadata": {
      "byteLimit": 2048000,
      "rowLimit": 10000
     },
     "inputWidgets": {},
     "nuid": "afa726b8-0da6-4509-8784-29b68a098717",
     "showTitle": true,
     "title": "CREATEDATAFRAME / PRINTSCHEMA"
    }
   },
   "outputs": [
    {
     "output_type": "stream",
     "name": "stdout",
     "output_type": "stream",
     "text": [
      "root\n |-- firstname: string (nullable = true)\n |-- lastname: string (nullable = false)\n |-- id: string (nullable = false)\n |-- gender: string (nullable = true)\n |-- salary: integer (nullable = true)\n\n"
     ]
    }
   ],
   "source": [
    "# creamos el dataframe con pyspark con los datos y su esquema relacionado\n",
    "df = spark.createDataFrame(datos, esquema)\n",
    "# mostramos el esquema del dataframe\n",
    "df.printSchema()"
   ]
  },
  {
   "cell_type": "code",
   "execution_count": 0,
   "metadata": {
    "application/vnd.databricks.v1+cell": {
     "cellMetadata": {
      "byteLimit": 2048000,
      "rowLimit": 10000
     },
     "inputWidgets": {},
     "nuid": "f1b54b97-1ae0-42a6-b27e-19a0642db675",
     "showTitle": true,
     "title": "SHOW"
    }
   },
   "outputs": [
    {
     "output_type": "stream",
     "name": "stdout",
     "output_type": "stream",
     "text": [
      "+---------+-------------+-----+------+------+\n|firstname|     lastname|   id|gender|salary|\n+---------+-------------+-----+------+------+\n|     null|     Smith   |36636|     M|  3500|\n|  Michael|         Rose|40288|     M|  4750|\n|   Robert|     Williams|42114|     M|  null|\n|    Maria|    Jones    |39192|     F|  4000|\n+---------+-------------+-----+------+------+\n\n"
     ]
    }
   ],
   "source": [
    "# mostramos el dataframe con todo ya definido\n",
    "df.show()"
   ]
  },
  {
   "cell_type": "markdown",
   "metadata": {
    "application/vnd.databricks.v1+cell": {
     "cellMetadata": {},
     "inputWidgets": {},
     "nuid": "752dd0d3-cb1a-4d70-8cf1-23896ba9ca43",
     "showTitle": false,
     "title": ""
    }
   },
   "source": [
    "##CREAR DATAFRAME DESDE ARCHIVO (I)"
   ]
  },
  {
   "cell_type": "code",
   "execution_count": 0,
   "metadata": {
    "application/vnd.databricks.v1+cell": {
     "cellMetadata": {
      "byteLimit": 2048000,
      "rowLimit": 10000
     },
     "inputWidgets": {},
     "nuid": "ce7cd971-0b61-4f3a-9576-2fafd24c031b",
     "showTitle": false,
     "title": ""
    }
   },
   "outputs": [],
   "source": [
    "# asignamos la variable la ruta del archivo que queremos importar para crear csv. esto viene dado desde databricks\n",
    "file = 'dbfs:/FileStore/shared_uploads/jesuspt98@gmail.com/sales.csv'"
   ]
  },
  {
   "cell_type": "code",
   "execution_count": 0,
   "metadata": {
    "application/vnd.databricks.v1+cell": {
     "cellMetadata": {
      "byteLimit": 2048000,
      "rowLimit": 10000
     },
     "inputWidgets": {},
     "nuid": "4f65d343-b9e0-4f6f-bc9a-273261f10fa6",
     "showTitle": false,
     "title": ""
    }
   },
   "outputs": [
    {
     "output_type": "stream",
     "name": "stdout",
     "output_type": "stream",
     "text": [
      "root\n |-- Order_ID: integer (nullable = true)\n |-- Order_Date: date (nullable = true)\n |-- Item_Type: string (nullable = true)\n |-- Units_Sold: integer (nullable = true)\n |-- Unit_Price: double (nullable = true)\n |-- Region: string (nullable = true)\n |-- Country: string (nullable = true)\n |-- Ship_Date: date (nullable = true)\n\n"
     ]
    }
   ],
   "source": [
    "# creamos el dataframe desde el archivo que hemos subido\n",
    "sales_df = spark.read.format(\"csv\").option(\"header\", True).option(\"inferSchema\", True).load(file) # con \"inferSchema\" el esquema lo deduce pyspark del .csv\n",
    "# esto comentado viene desde el propio databricks que te da la opción de crear el dataframe directamente desde el archivo justo al subirlo\n",
    "# df1 = spark.read.format(\"csv\").option(\"header\", \"true\").load(\"dbfs:/FileStore/shared_uploads/jesuspt98@gmail.com/sales-1.csv\")\n",
    "# mostramos el esquema del dataframe que hemos subido, que ya estaría asignado dentro del propio archivo\n",
    "sales_df.printSchema()"
   ]
  },
  {
   "cell_type": "code",
   "execution_count": 0,
   "metadata": {
    "application/vnd.databricks.v1+cell": {
     "cellMetadata": {
      "byteLimit": 2048000,
      "rowLimit": 10000
     },
     "inputWidgets": {},
     "nuid": "a4d59a71-0380-4dcf-992f-e80fc152fd96",
     "showTitle": false,
     "title": ""
    }
   },
   "outputs": [
    {
     "output_type": "stream",
     "name": "stdout",
     "output_type": "stream",
     "text": [
      "+---------+----------+---------------+----------+----------+---------------------------------+----------------------+----------+\n|Order_ID |Order_Date|Item_Type      |Units_Sold|Unit_Price|Region                           |Country               |Ship_Date |\n+---------+----------+---------------+----------+----------+---------------------------------+----------------------+----------+\n|535113847|2014-10-08|Snacks         |934       |152.58    |Middle East and North Africa     |Azerbaijan            |2014-10-23|\n|874708545|2015-02-22|Cosmetics      |4551      |437.2     |Central America and the Caribbean|Panama                |2015-02-27|\n|854349935|2015-12-09|Fruits         |9986      |9.33      |Sub-Saharan Africa               |Sao Tome and Principe |2016-01-18|\n|892836844|2014-09-17|Personal Care  |9118      |81.73     |Sub-Saharan Africa               |Sao Tome and Principe |2014-10-12|\n|129280602|2010-02-04|Household      |5858      |668.27    |Central America and the Caribbean|Belize                |2010-03-05|\n|473105037|2013-02-20|Clothes        |1149      |109.28    |Europe                           |Denmark               |2013-02-28|\n|754046475|2013-03-31|Cosmetics      |7964      |437.2     |Europe                           |Germany               |2013-05-03|\n|772153747|2012-03-26|Fruits         |6307      |9.33      |Middle East and North Africa     |Turkey                |2012-04-07|\n|847788178|2012-12-29|Snacks         |8217      |152.58    |Europe                           |United Kingdom        |2013-01-15|\n|471623599|2015-09-11|Cosmetics      |2758      |437.2     |Asia                             |Kazakhstan            |2015-09-18|\n|554646337|2013-12-27|Cosmetics      |1031      |437.2     |Central America and the Caribbean|Haiti                 |2014-01-01|\n|278155219|2013-12-17|Clothes        |1165      |109.28    |Europe                           |Italy                 |2014-01-10|\n|243761575|2015-03-10|Household      |3322      |668.27    |Europe                           |Malta                 |2015-04-17|\n|223389232|2014-07-09|Household      |4693      |668.27    |Middle East and North Africa     |Jordan                |2014-07-18|\n|509274518|2017-06-14|Vegetables     |4502      |154.06    |Asia                             |Cambodia              |2017-06-29|\n|563966262|2011-08-10|Office Supplies|9004      |651.21    |Central America and the Caribbean|Saint Kitts and Nevis |2011-08-29|\n|370325791|2015-12-18|Fruits         |6486      |9.33      |Sub-Saharan Africa               |Cameroon              |2016-02-06|\n|881526935|2016-06-26|Vegetables     |2264      |154.06    |Middle East and North Africa     |Bahrain               |2016-07-19|\n|871056020|2015-05-11|Beverages      |3688      |47.45     |Australia and Oceania            |Solomon Islands       |2015-05-30|\n|982711875|2012-01-13|Office Supplies|5137      |651.21    |Europe                           |Monaco                |2012-01-17|\n+---------+----------+---------------+----------+----------+---------------------------------+----------------------+----------+\nonly showing top 20 rows\n\n"
     ]
    }
   ],
   "source": [
    "sales_df.show(truncate=False)"
   ]
  },
  {
   "cell_type": "markdown",
   "metadata": {
    "application/vnd.databricks.v1+cell": {
     "cellMetadata": {},
     "inputWidgets": {},
     "nuid": "b78613a7-a7e9-4fae-a1cb-33a90997d678",
     "showTitle": false,
     "title": ""
    }
   },
   "source": [
    "##CREAR DATAFRAME DESDE ARCHIVO (II)"
   ]
  },
  {
   "cell_type": "code",
   "execution_count": 0,
   "metadata": {
    "application/vnd.databricks.v1+cell": {
     "cellMetadata": {
      "byteLimit": 2048000,
      "rowLimit": 10000
     },
     "inputWidgets": {},
     "nuid": "410af0b8-a86f-465a-a639-3cbfcc50e9d2",
     "showTitle": false,
     "title": "CREAR DATAFRAME DESDE ARCHIVO (II)"
    }
   },
   "outputs": [],
   "source": [
    "from pyspark.sql.types import IntegerType, StringType, FloatType, ArrayType, DateType, BooleanType\n",
    "# ahora lo que vamos a hacer es lo mismo pero con un tipo de archivo distinto, esta vez en .json. establecemos el esquema de la estructura, ya que al ser .json no podemos extraerla del archivo directamente\n",
    "persons_schema = StructType([\n",
    "    StructField('id', IntegerType(), True),\n",
    "    StructField('first_name', StringType(), True),\n",
    "    StructField('last_name', StringType(), True),\n",
    "    StructField('fav_movies', ArrayType(StringType()), True),\n",
    "    StructField('salary', FloatType(), True),\n",
    "    StructField('image_url', StringType(), True),\n",
    "    StructField('date_of_birth', DateType(), True),\n",
    "    StructField('active', BooleanType(), True)\n",
    "])\n"
   ]
  },
  {
   "cell_type": "code",
   "execution_count": 0,
   "metadata": {
    "application/vnd.databricks.v1+cell": {
     "cellMetadata": {
      "byteLimit": 2048000,
      "rowLimit": 10000
     },
     "inputWidgets": {},
     "nuid": "7371374b-a9f6-4576-8a78-40afcbcbac3e",
     "showTitle": false,
     "title": ""
    }
   },
   "outputs": [],
   "source": [
    "# asignamos a la variable del archivo la ruta del archivo que hemos subido\n",
    "file = 'dbfs:/FileStore/shared_uploads/jesuspt98@gmail.com/persons.json'"
   ]
  },
  {
   "cell_type": "code",
   "execution_count": 0,
   "metadata": {
    "application/vnd.databricks.v1+cell": {
     "cellMetadata": {
      "byteLimit": 2048000,
      "rowLimit": 10000
     },
     "inputWidgets": {},
     "nuid": "7174c252-2e72-4aa7-ae3f-1807797f8e5b",
     "showTitle": false,
     "title": ""
    }
   },
   "outputs": [
    {
     "output_type": "stream",
     "name": "stdout",
     "output_type": "stream",
     "text": [
      "+---+----------+-----------+--------------------+-------+--------------------+-------------+------+\n| id|first_name|  last_name|          fav_movies| salary|           image_url|date_of_birth|active|\n+---+----------+-----------+--------------------+-------+--------------------+-------------+------+\n|  1|     Drucy|      Poppy|  [I giorni contati]|1463.36|http://dummyimage...|   1991-02-16|  true|\n|  2|   Emelyne|      Blaza|[Musketeer, The, ...|3006.04|http://dummyimage...|   1991-11-02| false|\n|  3|       Max|     Rettie|[The Forgotten Sp...|1422.88|http://dummyimage...|   1990-03-03| false|\n|  4|    Ilario|       Kean|[Up Close and Per...|3561.36|http://dummyimage...|   1987-06-09|  true|\n|  5|     Toddy|     Drexel|[Walk in the Clou...|4934.87|http://dummyimage...|   1992-10-28|  true|\n|  6|    Oswald|   Petrolli|[Wing and the Thi...|1153.23|http://dummyimage...|   1986-09-02| false|\n|  7|    Adrian|     Clarey|[Walking Tall, Pa...|1044.73|http://dummyimage...|   1971-08-24| false|\n|  8|  Dominica|    Goodnow|    [Hearts Divided]|1147.76|http://dummyimage...|   1973-08-27| false|\n|  9|     Emory|    Slocomb|[Snake and Crane ...|1082.11|http://dummyimage...|   1974-06-08|  true|\n| 10|  Jeremias|       Bode|[Farewell to Arms...|3472.63|http://dummyimage...|   1997-08-02|  true|\n| 11|   Timothy|     Ervine|[Land of the Lost...|1147.61|http://dummyimage...|   1971-06-02| false|\n| 12|   Leanora|     Gooder|[It's All About L...|1327.02|http://dummyimage...|   1981-12-17| false|\n| 13|  Claiborn|     Denham|[McCullin, Max Pa...|2623.33|http://dummyimage...|   1996-03-07| false|\n| 14|   Ambrosi|   Vidineev|[Wall Street: Mon...|4550.88|http://dummyimage...|   1989-07-20|  true|\n| 15|    Feodor|Nancekivell|   [Monsoon Wedding]|2218.46|http://dummyimage...|   2000-10-07| false|\n| 16|   Margaux|   Archbold|[And Now a Word f...|1013.75|http://dummyimage...|   1988-07-29|  true|\n| 17|   Balduin|    Elstone|      [Sisters, The]|2302.26|http://dummyimage...|   1974-07-20| false|\n| 18|     Alfie|   Hatliffe|     [Lord of Tears]| 3893.1|http://dummyimage...|   1989-06-21|  true|\n| 19|      Lura|     Follis|[My Life in Pink ...|3331.26|http://dummyimage...|   1998-11-03| false|\n| 20|      Maxi|      Cluet|[All I Want for C...|4046.46|http://dummyimage...|   1979-05-06| false|\n+---+----------+-----------+--------------------+-------+--------------------+-------------+------+\nonly showing top 20 rows\n\n"
     ]
    }
   ],
   "source": [
    "# creamos el dataframe en pyspark:\n",
    "persons_df = spark.read.format('json').option('multiline', True).schema(persons_schema).load(file)\n",
    "# esta siguiente línea de código nos la da databricks una vez subimos el archivo, pero nos faltan cosas como en la línea anterior: \n",
    "# df1 = spark.read.format(\"json\").load(\"dbfs:/FileStore/shared_uploads/jesuspt98@gmail.com/persons.json\")\n",
    "persons_df.show()"
   ]
  },
  {
   "cell_type": "code",
   "execution_count": 0,
   "metadata": {
    "application/vnd.databricks.v1+cell": {
     "cellMetadata": {
      "byteLimit": 2048000,
      "rowLimit": 10000
     },
     "inputWidgets": {},
     "nuid": "c118819c-c82e-4626-be50-1b5ee1d86831",
     "showTitle": true,
     "title": "EXTRA: display"
    }
   },
   "outputs": [
    {
     "output_type": "display_data",
     "data": {
      "text/html": [
       "<style scoped>\n",
       "  .table-result-container {\n",
       "    max-height: 300px;\n",
       "    overflow: auto;\n",
       "  }\n",
       "  table, th, td {\n",
       "    border: 1px solid black;\n",
       "    border-collapse: collapse;\n",
       "  }\n",
       "  th, td {\n",
       "    padding: 5px;\n",
       "  }\n",
       "  th {\n",
       "    text-align: left;\n",
       "  }\n",
       "</style><div class='table-result-container'><table class='table-result'><thead style='background-color: white'><tr><th>id</th><th>first_name</th><th>last_name</th><th>fav_movies</th><th>salary</th><th>image_url</th><th>date_of_birth</th><th>active</th></tr></thead><tbody><tr><td>1</td><td>Drucy</td><td>Poppy</td><td>List(I giorni contati)</td><td>1463.36</td><td>http://dummyimage.com/126x166.png/cc0000/ffffff</td><td>1991-02-16</td><td>true</td></tr><tr><td>2</td><td>Emelyne</td><td>Blaza</td><td>List(Musketeer, The, Topralli)</td><td>3006.04</td><td>http://dummyimage.com/158x106.bmp/cc0000/ffffff</td><td>1991-11-02</td><td>false</td></tr><tr><td>3</td><td>Max</td><td>Rettie</td><td>List(The Forgotten Space, Make It Happen)</td><td>1422.88</td><td>http://dummyimage.com/237x140.jpg/ff4444/ffffff</td><td>1990-03-03</td><td>false</td></tr><tr><td>4</td><td>Ilario</td><td>Kean</td><td>List(Up Close and Personal)</td><td>3561.36</td><td>http://dummyimage.com/207x121.jpg/cc0000/ffffff</td><td>1987-06-09</td><td>true</td></tr><tr><td>5</td><td>Toddy</td><td>Drexel</td><td>List(Walk in the Clouds, A)</td><td>4934.87</td><td>http://dummyimage.com/116x202.png/cc0000/ffffff</td><td>1992-10-28</td><td>true</td></tr><tr><td>6</td><td>Oswald</td><td>Petrolli</td><td>List(Wing and the Thigh, The (L'aile ou la cuisse))</td><td>1153.23</td><td>http://dummyimage.com/137x172.jpg/5fa2dd/ffffff</td><td>1986-09-02</td><td>false</td></tr><tr><td>7</td><td>Adrian</td><td>Clarey</td><td>List(Walking Tall, Paradise, Hawaiian Style)</td><td>1044.73</td><td>http://dummyimage.com/244x218.bmp/cc0000/ffffff</td><td>1971-08-24</td><td>false</td></tr><tr><td>8</td><td>Dominica</td><td>Goodnow</td><td>List(Hearts Divided)</td><td>1147.76</td><td>http://dummyimage.com/112x203.jpg/dddddd/000000</td><td>1973-08-27</td><td>false</td></tr><tr><td>9</td><td>Emory</td><td>Slocomb</td><td>List(Snake and Crane Arts of Shaolin (She hao ba bu), Mala Noche)</td><td>1082.11</td><td>http://dummyimage.com/138x226.jpg/cc0000/ffffff</td><td>1974-06-08</td><td>true</td></tr><tr><td>10</td><td>Jeremias</td><td>Bode</td><td>List(Farewell to Arms, A)</td><td>3472.63</td><td>http://dummyimage.com/243x108.bmp/dddddd/000000</td><td>1997-08-02</td><td>true</td></tr><tr><td>11</td><td>Timothy</td><td>Ervine</td><td>List(Land of the Lost, Save the Last Dance, Whispering Corridors (Yeogo Goedam))</td><td>1147.61</td><td>http://dummyimage.com/162x184.bmp/5fa2dd/ffffff</td><td>1971-06-02</td><td>false</td></tr><tr><td>12</td><td>Leanora</td><td>Gooder</td><td>List(It's All About Love, Scooby-Doo! The Mystery Begins)</td><td>1327.02</td><td>http://dummyimage.com/108x237.png/5fa2dd/ffffff</td><td>1981-12-17</td><td>false</td></tr><tr><td>13</td><td>Claiborn</td><td>Denham</td><td>List(McCullin, Max Payne, Oath, The)</td><td>2623.33</td><td>http://dummyimage.com/250x200.bmp/5fa2dd/ffffff</td><td>1996-03-07</td><td>false</td></tr><tr><td>14</td><td>Ambrosi</td><td>Vidineev</td><td>List(Wall Street: Money Never Sleeps, Applause (Applaus), When a Stranger Calls)</td><td>4550.88</td><td>http://dummyimage.com/232x159.png/5fa2dd/ffffff</td><td>1989-07-20</td><td>true</td></tr><tr><td>15</td><td>Feodor</td><td>Nancekivell</td><td>List(Monsoon Wedding)</td><td>2218.46</td><td>http://dummyimage.com/119x120.bmp/cc0000/ffffff</td><td>2000-10-07</td><td>false</td></tr><tr><td>16</td><td>Margaux</td><td>Archbold</td><td>List(And Now a Word from Our Sponsor)</td><td>1013.75</td><td>http://dummyimage.com/229x133.png/5fa2dd/ffffff</td><td>1988-07-29</td><td>true</td></tr><tr><td>17</td><td>Balduin</td><td>Elstone</td><td>List(Sisters, The)</td><td>2302.26</td><td>http://dummyimage.com/171x173.png/5fa2dd/ffffff</td><td>1974-07-20</td><td>false</td></tr><tr><td>18</td><td>Alfie</td><td>Hatliffe</td><td>List(Lord of Tears)</td><td>3893.1</td><td>http://dummyimage.com/142x242.png/5fa2dd/ffffff</td><td>1989-06-21</td><td>true</td></tr><tr><td>19</td><td>Lura</td><td>Follis</td><td>List(My Life in Pink (Ma vie en rose), Test Pilot, Sin of Madelon Claudet, The)</td><td>3331.26</td><td>http://dummyimage.com/189x205.bmp/dddddd/000000</td><td>1998-11-03</td><td>false</td></tr><tr><td>20</td><td>Maxi</td><td>Cluet</td><td>List(All I Want for Christmas)</td><td>4046.46</td><td>http://dummyimage.com/110x101.png/cc0000/ffffff</td><td>1979-05-06</td><td>false</td></tr><tr><td>21</td><td>Dian</td><td>Dancy</td><td>List(Double, Double, Toil and Trouble)</td><td>3720.3</td><td>http://dummyimage.com/237x138.png/cc0000/ffffff</td><td>1998-12-01</td><td>true</td></tr><tr><td>22</td><td>Theodore</td><td>Climance</td><td>List(Story of the Weeping Camel, The (Geschichte vom weinenden Kamel, Die), Black Orpheus (Orfeu Negro))</td><td>3008.56</td><td>http://dummyimage.com/142x231.jpg/cc0000/ffffff</td><td>1999-01-30</td><td>false</td></tr><tr><td>23</td><td>Min</td><td>Latter</td><td>List(Kurt Cobain: Montage of Heck, Bey Yaar)</td><td>1909.87</td><td>http://dummyimage.com/135x201.jpg/dddddd/000000</td><td>1991-03-17</td><td>false</td></tr><tr><td>24</td><td>Camellia</td><td>Jervoise</td><td>List(Waiting to Exhale)</td><td>3431.17</td><td>http://dummyimage.com/213x117.png/ff4444/ffffff</td><td>1996-07-14</td><td>false</td></tr><tr><td>25</td><td>Kelcy</td><td>Wogdon</td><td>List(Iron Mask, The)</td><td>4512.51</td><td>http://dummyimage.com/229x198.jpg/ff4444/ffffff</td><td>2000-10-20</td><td>true</td></tr><tr><td>26</td><td>Clive</td><td>Lax</td><td>List(Rabid)</td><td>2126.87</td><td>http://dummyimage.com/136x104.bmp/ff4444/ffffff</td><td>1981-10-26</td><td>true</td></tr><tr><td>27</td><td>Kelila</td><td>Harrowsmith</td><td>List(Apparition, The)</td><td>4651.58</td><td>http://dummyimage.com/156x139.jpg/ff4444/ffffff</td><td>1973-01-02</td><td>true</td></tr><tr><td>28</td><td>Frankie</td><td>Copestick</td><td>List(Computer Wore Tennis Shoes, The)</td><td>1186.68</td><td>http://dummyimage.com/115x123.png/dddddd/000000</td><td>1994-03-09</td><td>false</td></tr><tr><td>29</td><td>Eli</td><td>Normabell</td><td>List(Return to Peyton Place, Dead Poets Society, How to Survive a Plague)</td><td>4917.48</td><td>http://dummyimage.com/121x158.jpg/5fa2dd/ffffff</td><td>1993-01-02</td><td>true</td></tr><tr><td>30</td><td>Carter</td><td>Ferre</td><td>List(In a World..., Bitch Slap, If Looks Could Kill)</td><td>1737.73</td><td>http://dummyimage.com/111x188.jpg/dddddd/000000</td><td>1980-10-10</td><td>false</td></tr><tr><td>31</td><td>Cynthy</td><td>Witch</td><td>List(Armadillo)</td><td>2400.58</td><td>http://dummyimage.com/161x222.bmp/cc0000/ffffff</td><td>1983-10-22</td><td>false</td></tr><tr><td>32</td><td>Redd</td><td>Akenhead</td><td>List(Century of the Dragon (Long zai bian yuan), Barbarian Queen II: The Empress Strikes Back)</td><td>2470.9</td><td>http://dummyimage.com/190x128.jpg/dddddd/000000</td><td>2000-06-05</td><td>false</td></tr><tr><td>33</td><td>Sherline</td><td>Primett</td><td>List(Jungle Fighters)</td><td>2309.39</td><td>http://dummyimage.com/230x221.jpg/5fa2dd/ffffff</td><td>1972-07-23</td><td>true</td></tr><tr><td>34</td><td>Davis</td><td>Pinks</td><td>List(Hounddog)</td><td>1337.14</td><td>http://dummyimage.com/231x186.bmp/ff4444/ffffff</td><td>1989-07-27</td><td>true</td></tr><tr><td>35</td><td>Fanni</td><td>Dyson</td><td>List(Wild One, The)</td><td>3228.58</td><td>http://dummyimage.com/139x156.bmp/cc0000/ffffff</td><td>1995-01-09</td><td>true</td></tr><tr><td>36</td><td>Ozzie</td><td>Brownlie</td><td>List(Orange County)</td><td>3945.18</td><td>http://dummyimage.com/126x237.png/5fa2dd/ffffff</td><td>1992-01-25</td><td>false</td></tr><tr><td>37</td><td>Carlen</td><td>Sharply</td><td>List(Dr. Jekyll and Mr. Hyde)</td><td>2051.85</td><td>http://dummyimage.com/168x224.png/5fa2dd/ffffff</td><td>2002-06-01</td><td>true</td></tr><tr><td>38</td><td>Camile</td><td>Mace</td><td>List(Family Guy Presents: Blue Harvest, Wavelength)</td><td>3559.93</td><td>http://dummyimage.com/159x120.jpg/cc0000/ffffff</td><td>1994-12-12</td><td>false</td></tr><tr><td>39</td><td>Melinda</td><td>McKevitt</td><td>List(Safrana or Freedom of Speech (Safrana ou le droit à la parole), Christiane F. (a.k.a. We Children from Bahnhof Zoo) (Christiane F. - Wir Kinder vom Bahnhof Zoo), Girlfriends, The (Le amiche))</td><td>4166.13</td><td>http://dummyimage.com/250x179.png/dddddd/000000</td><td>1979-12-15</td><td>true</td></tr><tr><td>40</td><td>Jordan</td><td>Lorant</td><td>List(Shockproof, Bachelor, The, Changeling, The)</td><td>2183.91</td><td>http://dummyimage.com/206x177.png/ff4444/ffffff</td><td>1979-07-29</td><td>true</td></tr><tr><td>41</td><td>Sky</td><td>Hails</td><td>List(Trotsky, The, Survivors, The, Chronicles (Crónicas))</td><td>1633.95</td><td>http://dummyimage.com/133x148.jpg/ff4444/ffffff</td><td>1971-02-19</td><td>false</td></tr><tr><td>42</td><td>Cristiano</td><td>Shaw</td><td>List(Can-Can, Feeding Frenzy)</td><td>3180.08</td><td>http://dummyimage.com/123x190.jpg/dddddd/000000</td><td>1997-04-07</td><td>true</td></tr><tr><td>43</td><td>Guthrie</td><td>Veeler</td><td>List(Mr. Brooks, Second Woman, The, Slumber Party Massacre II)</td><td>4806.88</td><td>http://dummyimage.com/209x111.jpg/5fa2dd/ffffff</td><td>1978-07-31</td><td>true</td></tr><tr><td>44</td><td>Wolfgang</td><td>Inger</td><td>List(No Such Thing)</td><td>3192.85</td><td>http://dummyimage.com/111x165.png/cc0000/ffffff</td><td>1973-11-16</td><td>true</td></tr><tr><td>45</td><td>Rem</td><td>Hanhard</td><td>List(The Adventures of André and Wally B., Holiday Engagement)</td><td>1365.89</td><td>http://dummyimage.com/185x117.png/dddddd/000000</td><td>1985-08-02</td><td>false</td></tr><tr><td>46</td><td>Giffie</td><td>Kemmish</td><td>List(State Witness, The (Swiadek koronny), 99 and 44/100% Dead)</td><td>4543.29</td><td>http://dummyimage.com/160x156.bmp/dddddd/000000</td><td>1995-06-25</td><td>false</td></tr><tr><td>47</td><td>Ardis</td><td>Wotton</td><td>List(Little Colonel, The)</td><td>3827.61</td><td>http://dummyimage.com/107x143.bmp/ff4444/ffffff</td><td>1979-06-13</td><td>true</td></tr><tr><td>48</td><td>Maximilian</td><td>Jonin</td><td>List(The Last Shark, Pat and Mike)</td><td>3274.34</td><td>http://dummyimage.com/167x130.jpg/5fa2dd/ffffff</td><td>1994-09-16</td><td>false</td></tr><tr><td>49</td><td>Kendricks</td><td>Kee</td><td>List(Flower & Garnet)</td><td>2304.39</td><td>http://dummyimage.com/121x108.png/cc0000/ffffff</td><td>1999-11-14</td><td>true</td></tr><tr><td>50</td><td>Darbee</td><td>Brownjohn</td><td>List(Lana Turner... a Daughter's Memoir)</td><td>3120.83</td><td>http://dummyimage.com/201x182.jpg/ff4444/ffffff</td><td>1996-02-07</td><td>false</td></tr><tr><td>51</td><td>El</td><td>Dohrmann</td><td>List(El Hada Buena - Una Fábula Peronista)</td><td>4810.48</td><td>http://dummyimage.com/130x112.png/dddddd/000000</td><td>1984-04-24</td><td>true</td></tr><tr><td>52</td><td>Thorvald</td><td>Finnan</td><td>List(Star Maker, The (Uomo delle stelle, L'), Deuces Wild, Piñero)</td><td>2194.92</td><td>http://dummyimage.com/219x148.png/ff4444/ffffff</td><td>1984-09-16</td><td>false</td></tr><tr><td>53</td><td>Franciska</td><td>Gilford</td><td>List(Cathedral, The (Katedra))</td><td>4406.27</td><td>http://dummyimage.com/238x218.jpg/cc0000/ffffff</td><td>1976-04-08</td><td>false</td></tr><tr><td>54</td><td>Johny</td><td>Goodenough</td><td>List(Maximum Overdrive)</td><td>3592.31</td><td>http://dummyimage.com/130x242.bmp/cc0000/ffffff</td><td>1977-08-18</td><td>false</td></tr><tr><td>55</td><td>Jere</td><td>Shakelady</td><td>List(Spencer's Mountain)</td><td>2866.28</td><td>http://dummyimage.com/157x234.bmp/dddddd/000000</td><td>1999-05-03</td><td>false</td></tr><tr><td>56</td><td>Kayley</td><td>Conws</td><td>List(The Nutcracker Prince, U Turn, JFK: The Smoking Gun)</td><td>2674.39</td><td>http://dummyimage.com/212x112.bmp/ff4444/ffffff</td><td>1997-10-18</td><td>false</td></tr><tr><td>57</td><td>Krystle</td><td>Shovell</td><td>List(Doomsday, Flight of the Conchords: A Texan Odyssey, Exit Wounds)</td><td>2260.76</td><td>http://dummyimage.com/248x238.jpg/dddddd/000000</td><td>1987-09-01</td><td>true</td></tr><tr><td>58</td><td>Nahum</td><td>Wildgoose</td><td>List(Thomas in Love (Thomas est Amoureux), American Dreams in China, Happiness of the Katakuris, The (Katakuri-ke no kôfuku))</td><td>4009.3</td><td>http://dummyimage.com/199x176.png/dddddd/000000</td><td>1986-12-17</td><td>true</td></tr><tr><td>59</td><td>Wynn</td><td>Sayre</td><td>List(Misérables in Concert, Les, Delta Force 2 (Delta Force 2: The Colombian Connection), Summer of Sam)</td><td>2689.51</td><td>http://dummyimage.com/154x190.bmp/dddddd/000000</td><td>1997-06-30</td><td>false</td></tr><tr><td>60</td><td>Bev</td><td>Symcox</td><td>List(Alvin and the Chipmunks: The Squeakquel, Inseparable, Bells of Innocence)</td><td>2586.38</td><td>http://dummyimage.com/227x207.bmp/cc0000/ffffff</td><td>1976-11-09</td><td>true</td></tr><tr><td>61</td><td>Shanna</td><td>Samples</td><td>List(Thomas in Love (Thomas est Amoureux))</td><td>2703.0</td><td>http://dummyimage.com/155x215.jpg/5fa2dd/ffffff</td><td>1989-07-07</td><td>false</td></tr><tr><td>62</td><td>Wilden</td><td>Mayger</td><td>List(Rock, Paper, Scissors: The Way of the Tosser, Hollywood Knights, The)</td><td>3372.25</td><td>http://dummyimage.com/158x137.bmp/5fa2dd/ffffff</td><td>1998-12-27</td><td>false</td></tr><tr><td>63</td><td>Toddy</td><td>Matevosian</td><td>List(Snake Eyes, Jauja)</td><td>4394.08</td><td>http://dummyimage.com/207x232.jpg/ff4444/ffffff</td><td>1972-03-17</td><td>true</td></tr><tr><td>64</td><td>Loralyn</td><td>Nimmo</td><td>List(Queen to Play (Joueuse), Frankenstein Meets the Wolf Man)</td><td>3005.12</td><td>http://dummyimage.com/149x242.jpg/5fa2dd/ffffff</td><td>1980-01-03</td><td>true</td></tr><tr><td>65</td><td>Hillyer</td><td>MacArdle</td><td>List(Slim Susie (Smala Sussie))</td><td>3826.59</td><td>http://dummyimage.com/118x112.png/dddddd/000000</td><td>1985-07-19</td><td>true</td></tr><tr><td>66</td><td>Rudy</td><td>Ritelli</td><td>List(Pope's Toilet, The (El bano del Papa))</td><td>4268.39</td><td>http://dummyimage.com/207x226.jpg/5fa2dd/ffffff</td><td>1998-09-01</td><td>true</td></tr><tr><td>67</td><td>Feodora</td><td>Giacomazzo</td><td>List(Death Watch (La Mort en Direct))</td><td>2122.2</td><td>http://dummyimage.com/141x164.jpg/dddddd/000000</td><td>1971-12-19</td><td>true</td></tr><tr><td>68</td><td>Ilsa</td><td>Hedman</td><td>List(Night of the Demons 2, Long John Silver, UnHung Hero)</td><td>3219.26</td><td>http://dummyimage.com/142x235.jpg/dddddd/000000</td><td>1986-01-29</td><td>true</td></tr><tr><td>69</td><td>Annabell</td><td>Doughty</td><td>List(Entertaining Angels: The Dorothy Day Story, Jimmy and Judy, Jezebel)</td><td>2022.57</td><td>http://dummyimage.com/101x132.jpg/dddddd/000000</td><td>2000-09-03</td><td>true</td></tr><tr><td>70</td><td>Franciska</td><td>Lees</td><td>List(Ay, Carmela! (¡Ay, Carmela!), Trilogy: The Weeping Meadow (Trilogia: To livadi pou dakryzei), Song Is Born, A)</td><td>3017.31</td><td>http://dummyimage.com/142x148.jpg/cc0000/ffffff</td><td>1982-07-15</td><td>false</td></tr><tr><td>71</td><td>Cecily</td><td>Salomon</td><td>List(Mrs. Henderson Presents)</td><td>4062.93</td><td>http://dummyimage.com/115x130.bmp/cc0000/ffffff</td><td>1999-07-18</td><td>true</td></tr><tr><td>72</td><td>Eugine</td><td>McRamsey</td><td>List(Lawman)</td><td>2006.46</td><td>http://dummyimage.com/185x133.jpg/5fa2dd/ffffff</td><td>1998-09-12</td><td>false</td></tr><tr><td>73</td><td>Jere</td><td>Burchill</td><td>List(Project A ('A' gai waak))</td><td>1244.32</td><td>http://dummyimage.com/209x154.png/dddddd/000000</td><td>1998-07-30</td><td>false</td></tr><tr><td>74</td><td>Micky</td><td>Umfrey</td><td>List(Haunted House, The, Swept Away (Travolti da un insolito destino nell'azzurro mare d'Agosto), Tevye)</td><td>1271.82</td><td>http://dummyimage.com/101x138.png/ff4444/ffffff</td><td>1989-07-04</td><td>false</td></tr><tr><td>75</td><td>Norean</td><td>Baum</td><td>List(Fright Night, Blade of the Ripper, Yrrol: An Enormously Well Thought Out Movie (Yrrol - en kolossalt genomtänkt film))</td><td>2924.43</td><td>http://dummyimage.com/187x118.bmp/cc0000/ffffff</td><td>1974-03-27</td><td>true</td></tr><tr><td>76</td><td>Trace</td><td>Balke</td><td>List(Dark Truth, A (Truth, The))</td><td>4812.73</td><td>http://dummyimage.com/109x177.png/dddddd/000000</td><td>1982-01-03</td><td>true</td></tr><tr><td>77</td><td>Elianora</td><td>Notman</td><td>List(Nostalghia)</td><td>2132.07</td><td>http://dummyimage.com/105x245.bmp/dddddd/000000</td><td>1999-06-26</td><td>false</td></tr><tr><td>78</td><td>Nyssa</td><td>Rajchert</td><td>List(Little Accidents, Naked Kiss, The)</td><td>2697.06</td><td>http://dummyimage.com/146x105.jpg/5fa2dd/ffffff</td><td>1987-08-28</td><td>true</td></tr><tr><td>79</td><td>Deina</td><td>Pennick</td><td>List(Invisible Invaders, Particle Fever, Buster Keaton: A Hard Act to Follow)</td><td>1048.92</td><td>http://dummyimage.com/166x180.bmp/ff4444/ffffff</td><td>1999-11-28</td><td>true</td></tr><tr><td>80</td><td>Lorilee</td><td>Petrie</td><td>List(Gaudi Afternoon, Hollywood and The Pentagon: A Dangerous Liaison, Princess of Mars)</td><td>4153.15</td><td>http://dummyimage.com/124x184.png/dddddd/000000</td><td>2002-07-29</td><td>false</td></tr><tr><td>81</td><td>Daveta</td><td>Crutchley</td><td>List(Camp Rock 2: The Final Jam, Guyana Tragedy: The Story of Jim Jones, Moonlight Murder)</td><td>2627.25</td><td>http://dummyimage.com/118x246.png/dddddd/000000</td><td>1978-11-16</td><td>false</td></tr><tr><td>82</td><td>Lucita</td><td>Sowerbutts</td><td>List(Redemption: For Robbing the Dead, Batman/Superman Movie, The, Take My Eyes (Te doy mis ojos))</td><td>3052.35</td><td>http://dummyimage.com/201x220.jpg/ff4444/ffffff</td><td>1972-09-18</td><td>true</td></tr><tr><td>83</td><td>Kalinda</td><td>Pearcy</td><td>List(Blind Swordsman: Zatoichi, The (Zatôichi))</td><td>2824.97</td><td>http://dummyimage.com/139x177.jpg/5fa2dd/ffffff</td><td>1996-02-20</td><td>false</td></tr><tr><td>84</td><td>Ricca</td><td>Newgrosh</td><td>List(Documentarian, Dare)</td><td>3412.06</td><td>http://dummyimage.com/135x132.jpg/5fa2dd/ffffff</td><td>1984-07-27</td><td>false</td></tr><tr><td>85</td><td>Maxine</td><td>Ewenson</td><td>List(Savior, Beaver Trilogy Part IV)</td><td>3363.5</td><td>http://dummyimage.com/171x235.png/cc0000/ffffff</td><td>2001-01-24</td><td>false</td></tr><tr><td>86</td><td>Welbie</td><td>Crackel</td><td>List(All That Heaven Allows, The New Babylon, Fjorton suger)</td><td>2720.28</td><td>http://dummyimage.com/201x124.bmp/5fa2dd/ffffff</td><td>1990-10-24</td><td>true</td></tr><tr><td>87</td><td>Margareta</td><td>Marusik</td><td>List(Eyjafjallajökull, Made in America, Minuscule: Valley of the Lost Ants (Minuscule - La vallée des fourmis perdues))</td><td>3416.97</td><td>http://dummyimage.com/187x115.bmp/cc0000/ffffff</td><td>1983-10-01</td><td>false</td></tr><tr><td>88</td><td>Jobie</td><td>Maughan</td><td>List(Devils on the Doorstep (Guizi lai le), On the Run)</td><td>3899.2</td><td>http://dummyimage.com/187x144.png/cc0000/ffffff</td><td>2000-02-07</td><td>false</td></tr><tr><td>89</td><td>Tish</td><td>Machon</td><td>List(Arrowhead, Simon)</td><td>4830.06</td><td>http://dummyimage.com/161x139.png/dddddd/000000</td><td>1995-06-08</td><td>true</td></tr><tr><td>90</td><td>Josy</td><td>Pellew</td><td>List(Dominion: Prequel to the Exorcist)</td><td>2791.54</td><td>http://dummyimage.com/198x154.jpg/cc0000/ffffff</td><td>1981-01-14</td><td>false</td></tr><tr><td>91</td><td>Stanley</td><td>Sargeaunt</td><td>List(Blow Out, Ashes, The (Popioly), God Said 'Ha!')</td><td>2958.64</td><td>http://dummyimage.com/149x140.png/ff4444/ffffff</td><td>1986-09-12</td><td>false</td></tr><tr><td>92</td><td>Daron</td><td>Briance</td><td>List(Train on the Brain, Two Thousand Maniacs!, Anything Goes)</td><td>4226.35</td><td>http://dummyimage.com/110x137.png/5fa2dd/ffffff</td><td>2002-02-22</td><td>true</td></tr><tr><td>93</td><td>Janean</td><td>Pelz</td><td>List(Once)</td><td>4906.92</td><td>http://dummyimage.com/241x212.jpg/ff4444/ffffff</td><td>1975-09-23</td><td>true</td></tr><tr><td>94</td><td>Bennie</td><td>Knight</td><td>List(House on Carroll Street, The)</td><td>2370.24</td><td>http://dummyimage.com/183x155.png/cc0000/ffffff</td><td>1977-08-27</td><td>false</td></tr><tr><td>95</td><td>Cobb</td><td>MacLure</td><td>List(Storage 24, His Secret Life (a.k.a. Ignorant Fairies, The) (Fate ignoranti, Le))</td><td>1621.17</td><td>http://dummyimage.com/181x215.png/ff4444/ffffff</td><td>1994-06-28</td><td>false</td></tr><tr><td>96</td><td>Dew</td><td>Coopland</td><td>List(Rush)</td><td>2725.56</td><td>http://dummyimage.com/181x146.bmp/5fa2dd/ffffff</td><td>1986-11-14</td><td>false</td></tr><tr><td>97</td><td>Rodi</td><td>Farnan</td><td>List(Code, The (Mentale, La), Guadalcanal Diary)</td><td>2325.88</td><td>http://dummyimage.com/214x164.bmp/ff4444/ffffff</td><td>1972-01-04</td><td>false</td></tr><tr><td>98</td><td>Davin</td><td>Labb</td><td>List(Viva Riva!, Killer Inside Me, The)</td><td>1452.74</td><td>http://dummyimage.com/238x145.bmp/ff4444/ffffff</td><td>1988-01-27</td><td>true</td></tr><tr><td>99</td><td>Rozalie</td><td>Wannop</td><td>List(Suddenly, The Noble Family)</td><td>1259.64</td><td>http://dummyimage.com/104x154.png/cc0000/ffffff</td><td>1997-03-25</td><td>false</td></tr><tr><td>100</td><td>Virgie</td><td>Domanski</td><td>List(Horseman, The, Sword of Desperation (Hisshiken torisashi))</td><td>2165.93</td><td>http://dummyimage.com/220x111.png/ff4444/ffffff</td><td>2002-01-05</td><td>true</td></tr></tbody></table></div>"
      ]
     },
     "metadata": {
      "application/vnd.databricks.v1+output": {
       "addedWidgets": {},
       "aggData": [],
       "aggError": "",
       "aggOverflow": false,
       "aggSchema": [],
       "aggSeriesLimitReached": false,
       "aggType": "",
       "arguments": {},
       "columnCustomDisplayInfos": {},
       "data": [
        [
         1,
         "Drucy",
         "Poppy",
         [
          "I giorni contati"
         ],
         1463.36,
         "http://dummyimage.com/126x166.png/cc0000/ffffff",
         "1991-02-16",
         true
        ],
        [
         2,
         "Emelyne",
         "Blaza",
         [
          "Musketeer, The",
          "Topralli"
         ],
         3006.04,
         "http://dummyimage.com/158x106.bmp/cc0000/ffffff",
         "1991-11-02",
         false
        ],
        [
         3,
         "Max",
         "Rettie",
         [
          "The Forgotten Space",
          "Make It Happen"
         ],
         1422.88,
         "http://dummyimage.com/237x140.jpg/ff4444/ffffff",
         "1990-03-03",
         false
        ],
        [
         4,
         "Ilario",
         "Kean",
         [
          "Up Close and Personal"
         ],
         3561.36,
         "http://dummyimage.com/207x121.jpg/cc0000/ffffff",
         "1987-06-09",
         true
        ],
        [
         5,
         "Toddy",
         "Drexel",
         [
          "Walk in the Clouds, A"
         ],
         4934.87,
         "http://dummyimage.com/116x202.png/cc0000/ffffff",
         "1992-10-28",
         true
        ],
        [
         6,
         "Oswald",
         "Petrolli",
         [
          "Wing and the Thigh, The (L'aile ou la cuisse)"
         ],
         1153.23,
         "http://dummyimage.com/137x172.jpg/5fa2dd/ffffff",
         "1986-09-02",
         false
        ],
        [
         7,
         "Adrian",
         "Clarey",
         [
          "Walking Tall",
          "Paradise, Hawaiian Style"
         ],
         1044.73,
         "http://dummyimage.com/244x218.bmp/cc0000/ffffff",
         "1971-08-24",
         false
        ],
        [
         8,
         "Dominica",
         "Goodnow",
         [
          "Hearts Divided"
         ],
         1147.76,
         "http://dummyimage.com/112x203.jpg/dddddd/000000",
         "1973-08-27",
         false
        ],
        [
         9,
         "Emory",
         "Slocomb",
         [
          "Snake and Crane Arts of Shaolin (She hao ba bu)",
          "Mala Noche"
         ],
         1082.11,
         "http://dummyimage.com/138x226.jpg/cc0000/ffffff",
         "1974-06-08",
         true
        ],
        [
         10,
         "Jeremias",
         "Bode",
         [
          "Farewell to Arms, A"
         ],
         3472.63,
         "http://dummyimage.com/243x108.bmp/dddddd/000000",
         "1997-08-02",
         true
        ],
        [
         11,
         "Timothy",
         "Ervine",
         [
          "Land of the Lost",
          "Save the Last Dance",
          "Whispering Corridors (Yeogo Goedam)"
         ],
         1147.61,
         "http://dummyimage.com/162x184.bmp/5fa2dd/ffffff",
         "1971-06-02",
         false
        ],
        [
         12,
         "Leanora",
         "Gooder",
         [
          "It's All About Love",
          "Scooby-Doo! The Mystery Begins"
         ],
         1327.02,
         "http://dummyimage.com/108x237.png/5fa2dd/ffffff",
         "1981-12-17",
         false
        ],
        [
         13,
         "Claiborn",
         "Denham",
         [
          "McCullin",
          "Max Payne",
          "Oath, The"
         ],
         2623.33,
         "http://dummyimage.com/250x200.bmp/5fa2dd/ffffff",
         "1996-03-07",
         false
        ],
        [
         14,
         "Ambrosi",
         "Vidineev",
         [
          "Wall Street: Money Never Sleeps",
          "Applause (Applaus)",
          "When a Stranger Calls"
         ],
         4550.88,
         "http://dummyimage.com/232x159.png/5fa2dd/ffffff",
         "1989-07-20",
         true
        ],
        [
         15,
         "Feodor",
         "Nancekivell",
         [
          "Monsoon Wedding"
         ],
         2218.46,
         "http://dummyimage.com/119x120.bmp/cc0000/ffffff",
         "2000-10-07",
         false
        ],
        [
         16,
         "Margaux",
         "Archbold",
         [
          "And Now a Word from Our Sponsor"
         ],
         1013.75,
         "http://dummyimage.com/229x133.png/5fa2dd/ffffff",
         "1988-07-29",
         true
        ],
        [
         17,
         "Balduin",
         "Elstone",
         [
          "Sisters, The"
         ],
         2302.26,
         "http://dummyimage.com/171x173.png/5fa2dd/ffffff",
         "1974-07-20",
         false
        ],
        [
         18,
         "Alfie",
         "Hatliffe",
         [
          "Lord of Tears"
         ],
         3893.1,
         "http://dummyimage.com/142x242.png/5fa2dd/ffffff",
         "1989-06-21",
         true
        ],
        [
         19,
         "Lura",
         "Follis",
         [
          "My Life in Pink (Ma vie en rose)",
          "Test Pilot",
          "Sin of Madelon Claudet, The"
         ],
         3331.26,
         "http://dummyimage.com/189x205.bmp/dddddd/000000",
         "1998-11-03",
         false
        ],
        [
         20,
         "Maxi",
         "Cluet",
         [
          "All I Want for Christmas"
         ],
         4046.46,
         "http://dummyimage.com/110x101.png/cc0000/ffffff",
         "1979-05-06",
         false
        ],
        [
         21,
         "Dian",
         "Dancy",
         [
          "Double, Double, Toil and Trouble"
         ],
         3720.3,
         "http://dummyimage.com/237x138.png/cc0000/ffffff",
         "1998-12-01",
         true
        ],
        [
         22,
         "Theodore",
         "Climance",
         [
          "Story of the Weeping Camel, The (Geschichte vom weinenden Kamel, Die)",
          "Black Orpheus (Orfeu Negro)"
         ],
         3008.56,
         "http://dummyimage.com/142x231.jpg/cc0000/ffffff",
         "1999-01-30",
         false
        ],
        [
         23,
         "Min",
         "Latter",
         [
          "Kurt Cobain: Montage of Heck",
          "Bey Yaar"
         ],
         1909.87,
         "http://dummyimage.com/135x201.jpg/dddddd/000000",
         "1991-03-17",
         false
        ],
        [
         24,
         "Camellia",
         "Jervoise",
         [
          "Waiting to Exhale"
         ],
         3431.17,
         "http://dummyimage.com/213x117.png/ff4444/ffffff",
         "1996-07-14",
         false
        ],
        [
         25,
         "Kelcy",
         "Wogdon",
         [
          "Iron Mask, The"
         ],
         4512.51,
         "http://dummyimage.com/229x198.jpg/ff4444/ffffff",
         "2000-10-20",
         true
        ],
        [
         26,
         "Clive",
         "Lax",
         [
          "Rabid"
         ],
         2126.87,
         "http://dummyimage.com/136x104.bmp/ff4444/ffffff",
         "1981-10-26",
         true
        ],
        [
         27,
         "Kelila",
         "Harrowsmith",
         [
          "Apparition, The"
         ],
         4651.58,
         "http://dummyimage.com/156x139.jpg/ff4444/ffffff",
         "1973-01-02",
         true
        ],
        [
         28,
         "Frankie",
         "Copestick",
         [
          "Computer Wore Tennis Shoes, The"
         ],
         1186.68,
         "http://dummyimage.com/115x123.png/dddddd/000000",
         "1994-03-09",
         false
        ],
        [
         29,
         "Eli",
         "Normabell",
         [
          "Return to Peyton Place",
          "Dead Poets Society",
          "How to Survive a Plague"
         ],
         4917.48,
         "http://dummyimage.com/121x158.jpg/5fa2dd/ffffff",
         "1993-01-02",
         true
        ],
        [
         30,
         "Carter",
         "Ferre",
         [
          "In a World...",
          "Bitch Slap",
          "If Looks Could Kill"
         ],
         1737.73,
         "http://dummyimage.com/111x188.jpg/dddddd/000000",
         "1980-10-10",
         false
        ],
        [
         31,
         "Cynthy",
         "Witch",
         [
          "Armadillo"
         ],
         2400.58,
         "http://dummyimage.com/161x222.bmp/cc0000/ffffff",
         "1983-10-22",
         false
        ],
        [
         32,
         "Redd",
         "Akenhead",
         [
          "Century of the Dragon (Long zai bian yuan)",
          "Barbarian Queen II: The Empress Strikes Back"
         ],
         2470.9,
         "http://dummyimage.com/190x128.jpg/dddddd/000000",
         "2000-06-05",
         false
        ],
        [
         33,
         "Sherline",
         "Primett",
         [
          "Jungle Fighters"
         ],
         2309.39,
         "http://dummyimage.com/230x221.jpg/5fa2dd/ffffff",
         "1972-07-23",
         true
        ],
        [
         34,
         "Davis",
         "Pinks",
         [
          "Hounddog"
         ],
         1337.14,
         "http://dummyimage.com/231x186.bmp/ff4444/ffffff",
         "1989-07-27",
         true
        ],
        [
         35,
         "Fanni",
         "Dyson",
         [
          "Wild One, The"
         ],
         3228.58,
         "http://dummyimage.com/139x156.bmp/cc0000/ffffff",
         "1995-01-09",
         true
        ],
        [
         36,
         "Ozzie",
         "Brownlie",
         [
          "Orange County"
         ],
         3945.18,
         "http://dummyimage.com/126x237.png/5fa2dd/ffffff",
         "1992-01-25",
         false
        ],
        [
         37,
         "Carlen",
         "Sharply",
         [
          "Dr. Jekyll and Mr. Hyde"
         ],
         2051.85,
         "http://dummyimage.com/168x224.png/5fa2dd/ffffff",
         "2002-06-01",
         true
        ],
        [
         38,
         "Camile",
         "Mace",
         [
          "Family Guy Presents: Blue Harvest",
          "Wavelength"
         ],
         3559.93,
         "http://dummyimage.com/159x120.jpg/cc0000/ffffff",
         "1994-12-12",
         false
        ],
        [
         39,
         "Melinda",
         "McKevitt",
         [
          "Safrana or Freedom of Speech (Safrana ou le droit à la parole)",
          "Christiane F. (a.k.a. We Children from Bahnhof Zoo) (Christiane F. - Wir Kinder vom Bahnhof Zoo)",
          "Girlfriends, The (Le amiche)"
         ],
         4166.13,
         "http://dummyimage.com/250x179.png/dddddd/000000",
         "1979-12-15",
         true
        ],
        [
         40,
         "Jordan",
         "Lorant",
         [
          "Shockproof",
          "Bachelor, The",
          "Changeling, The"
         ],
         2183.91,
         "http://dummyimage.com/206x177.png/ff4444/ffffff",
         "1979-07-29",
         true
        ],
        [
         41,
         "Sky",
         "Hails",
         [
          "Trotsky, The",
          "Survivors, The",
          "Chronicles (Crónicas)"
         ],
         1633.95,
         "http://dummyimage.com/133x148.jpg/ff4444/ffffff",
         "1971-02-19",
         false
        ],
        [
         42,
         "Cristiano",
         "Shaw",
         [
          "Can-Can",
          "Feeding Frenzy"
         ],
         3180.08,
         "http://dummyimage.com/123x190.jpg/dddddd/000000",
         "1997-04-07",
         true
        ],
        [
         43,
         "Guthrie",
         "Veeler",
         [
          "Mr. Brooks",
          "Second Woman, The",
          "Slumber Party Massacre II"
         ],
         4806.88,
         "http://dummyimage.com/209x111.jpg/5fa2dd/ffffff",
         "1978-07-31",
         true
        ],
        [
         44,
         "Wolfgang",
         "Inger",
         [
          "No Such Thing"
         ],
         3192.85,
         "http://dummyimage.com/111x165.png/cc0000/ffffff",
         "1973-11-16",
         true
        ],
        [
         45,
         "Rem",
         "Hanhard",
         [
          "The Adventures of André and Wally B.",
          "Holiday Engagement"
         ],
         1365.89,
         "http://dummyimage.com/185x117.png/dddddd/000000",
         "1985-08-02",
         false
        ],
        [
         46,
         "Giffie",
         "Kemmish",
         [
          "State Witness, The (Swiadek koronny)",
          "99 and 44/100% Dead"
         ],
         4543.29,
         "http://dummyimage.com/160x156.bmp/dddddd/000000",
         "1995-06-25",
         false
        ],
        [
         47,
         "Ardis",
         "Wotton",
         [
          "Little Colonel, The"
         ],
         3827.61,
         "http://dummyimage.com/107x143.bmp/ff4444/ffffff",
         "1979-06-13",
         true
        ],
        [
         48,
         "Maximilian",
         "Jonin",
         [
          "The Last Shark",
          "Pat and Mike"
         ],
         3274.34,
         "http://dummyimage.com/167x130.jpg/5fa2dd/ffffff",
         "1994-09-16",
         false
        ],
        [
         49,
         "Kendricks",
         "Kee",
         [
          "Flower & Garnet"
         ],
         2304.39,
         "http://dummyimage.com/121x108.png/cc0000/ffffff",
         "1999-11-14",
         true
        ],
        [
         50,
         "Darbee",
         "Brownjohn",
         [
          "Lana Turner... a Daughter's Memoir"
         ],
         3120.83,
         "http://dummyimage.com/201x182.jpg/ff4444/ffffff",
         "1996-02-07",
         false
        ],
        [
         51,
         "El",
         "Dohrmann",
         [
          "El Hada Buena - Una Fábula Peronista"
         ],
         4810.48,
         "http://dummyimage.com/130x112.png/dddddd/000000",
         "1984-04-24",
         true
        ],
        [
         52,
         "Thorvald",
         "Finnan",
         [
          "Star Maker, The (Uomo delle stelle, L')",
          "Deuces Wild",
          "Piñero"
         ],
         2194.92,
         "http://dummyimage.com/219x148.png/ff4444/ffffff",
         "1984-09-16",
         false
        ],
        [
         53,
         "Franciska",
         "Gilford",
         [
          "Cathedral, The (Katedra)"
         ],
         4406.27,
         "http://dummyimage.com/238x218.jpg/cc0000/ffffff",
         "1976-04-08",
         false
        ],
        [
         54,
         "Johny",
         "Goodenough",
         [
          "Maximum Overdrive"
         ],
         3592.31,
         "http://dummyimage.com/130x242.bmp/cc0000/ffffff",
         "1977-08-18",
         false
        ],
        [
         55,
         "Jere",
         "Shakelady",
         [
          "Spencer's Mountain"
         ],
         2866.28,
         "http://dummyimage.com/157x234.bmp/dddddd/000000",
         "1999-05-03",
         false
        ],
        [
         56,
         "Kayley",
         "Conws",
         [
          "The Nutcracker Prince",
          "U Turn",
          "JFK: The Smoking Gun"
         ],
         2674.39,
         "http://dummyimage.com/212x112.bmp/ff4444/ffffff",
         "1997-10-18",
         false
        ],
        [
         57,
         "Krystle",
         "Shovell",
         [
          "Doomsday",
          "Flight of the Conchords: A Texan Odyssey",
          "Exit Wounds"
         ],
         2260.76,
         "http://dummyimage.com/248x238.jpg/dddddd/000000",
         "1987-09-01",
         true
        ],
        [
         58,
         "Nahum",
         "Wildgoose",
         [
          "Thomas in Love (Thomas est Amoureux)",
          "American Dreams in China",
          "Happiness of the Katakuris, The (Katakuri-ke no kôfuku)"
         ],
         4009.3,
         "http://dummyimage.com/199x176.png/dddddd/000000",
         "1986-12-17",
         true
        ],
        [
         59,
         "Wynn",
         "Sayre",
         [
          "Misérables in Concert, Les",
          "Delta Force 2 (Delta Force 2: The Colombian Connection)",
          "Summer of Sam"
         ],
         2689.51,
         "http://dummyimage.com/154x190.bmp/dddddd/000000",
         "1997-06-30",
         false
        ],
        [
         60,
         "Bev",
         "Symcox",
         [
          "Alvin and the Chipmunks: The Squeakquel",
          "Inseparable",
          "Bells of Innocence"
         ],
         2586.38,
         "http://dummyimage.com/227x207.bmp/cc0000/ffffff",
         "1976-11-09",
         true
        ],
        [
         61,
         "Shanna",
         "Samples",
         [
          "Thomas in Love (Thomas est Amoureux)"
         ],
         2703.0,
         "http://dummyimage.com/155x215.jpg/5fa2dd/ffffff",
         "1989-07-07",
         false
        ],
        [
         62,
         "Wilden",
         "Mayger",
         [
          "Rock, Paper, Scissors: The Way of the Tosser",
          "Hollywood Knights, The"
         ],
         3372.25,
         "http://dummyimage.com/158x137.bmp/5fa2dd/ffffff",
         "1998-12-27",
         false
        ],
        [
         63,
         "Toddy",
         "Matevosian",
         [
          "Snake Eyes",
          "Jauja"
         ],
         4394.08,
         "http://dummyimage.com/207x232.jpg/ff4444/ffffff",
         "1972-03-17",
         true
        ],
        [
         64,
         "Loralyn",
         "Nimmo",
         [
          "Queen to Play (Joueuse)",
          "Frankenstein Meets the Wolf Man"
         ],
         3005.12,
         "http://dummyimage.com/149x242.jpg/5fa2dd/ffffff",
         "1980-01-03",
         true
        ],
        [
         65,
         "Hillyer",
         "MacArdle",
         [
          "Slim Susie (Smala Sussie)"
         ],
         3826.59,
         "http://dummyimage.com/118x112.png/dddddd/000000",
         "1985-07-19",
         true
        ],
        [
         66,
         "Rudy",
         "Ritelli",
         [
          "Pope's Toilet, The (El bano del Papa)"
         ],
         4268.39,
         "http://dummyimage.com/207x226.jpg/5fa2dd/ffffff",
         "1998-09-01",
         true
        ],
        [
         67,
         "Feodora",
         "Giacomazzo",
         [
          "Death Watch (La Mort en Direct)"
         ],
         2122.2,
         "http://dummyimage.com/141x164.jpg/dddddd/000000",
         "1971-12-19",
         true
        ],
        [
         68,
         "Ilsa",
         "Hedman",
         [
          "Night of the Demons 2",
          "Long John Silver",
          "UnHung Hero"
         ],
         3219.26,
         "http://dummyimage.com/142x235.jpg/dddddd/000000",
         "1986-01-29",
         true
        ],
        [
         69,
         "Annabell",
         "Doughty",
         [
          "Entertaining Angels: The Dorothy Day Story",
          "Jimmy and Judy",
          "Jezebel"
         ],
         2022.57,
         "http://dummyimage.com/101x132.jpg/dddddd/000000",
         "2000-09-03",
         true
        ],
        [
         70,
         "Franciska",
         "Lees",
         [
          "Ay, Carmela! (¡Ay, Carmela!)",
          "Trilogy: The Weeping Meadow (Trilogia: To livadi pou dakryzei)",
          "Song Is Born, A"
         ],
         3017.31,
         "http://dummyimage.com/142x148.jpg/cc0000/ffffff",
         "1982-07-15",
         false
        ],
        [
         71,
         "Cecily",
         "Salomon",
         [
          "Mrs. Henderson Presents"
         ],
         4062.93,
         "http://dummyimage.com/115x130.bmp/cc0000/ffffff",
         "1999-07-18",
         true
        ],
        [
         72,
         "Eugine",
         "McRamsey",
         [
          "Lawman"
         ],
         2006.46,
         "http://dummyimage.com/185x133.jpg/5fa2dd/ffffff",
         "1998-09-12",
         false
        ],
        [
         73,
         "Jere",
         "Burchill",
         [
          "Project A ('A' gai waak)"
         ],
         1244.32,
         "http://dummyimage.com/209x154.png/dddddd/000000",
         "1998-07-30",
         false
        ],
        [
         74,
         "Micky",
         "Umfrey",
         [
          "Haunted House, The",
          "Swept Away (Travolti da un insolito destino nell'azzurro mare d'Agosto)",
          "Tevye"
         ],
         1271.82,
         "http://dummyimage.com/101x138.png/ff4444/ffffff",
         "1989-07-04",
         false
        ],
        [
         75,
         "Norean",
         "Baum",
         [
          "Fright Night",
          "Blade of the Ripper",
          "Yrrol: An Enormously Well Thought Out Movie (Yrrol - en kolossalt genomtänkt film)"
         ],
         2924.43,
         "http://dummyimage.com/187x118.bmp/cc0000/ffffff",
         "1974-03-27",
         true
        ],
        [
         76,
         "Trace",
         "Balke",
         [
          "Dark Truth, A (Truth, The)"
         ],
         4812.73,
         "http://dummyimage.com/109x177.png/dddddd/000000",
         "1982-01-03",
         true
        ],
        [
         77,
         "Elianora",
         "Notman",
         [
          "Nostalghia"
         ],
         2132.07,
         "http://dummyimage.com/105x245.bmp/dddddd/000000",
         "1999-06-26",
         false
        ],
        [
         78,
         "Nyssa",
         "Rajchert",
         [
          "Little Accidents",
          "Naked Kiss, The"
         ],
         2697.06,
         "http://dummyimage.com/146x105.jpg/5fa2dd/ffffff",
         "1987-08-28",
         true
        ],
        [
         79,
         "Deina",
         "Pennick",
         [
          "Invisible Invaders",
          "Particle Fever",
          "Buster Keaton: A Hard Act to Follow"
         ],
         1048.92,
         "http://dummyimage.com/166x180.bmp/ff4444/ffffff",
         "1999-11-28",
         true
        ],
        [
         80,
         "Lorilee",
         "Petrie",
         [
          "Gaudi Afternoon",
          "Hollywood and The Pentagon: A Dangerous Liaison",
          "Princess of Mars"
         ],
         4153.15,
         "http://dummyimage.com/124x184.png/dddddd/000000",
         "2002-07-29",
         false
        ],
        [
         81,
         "Daveta",
         "Crutchley",
         [
          "Camp Rock 2: The Final Jam",
          "Guyana Tragedy: The Story of Jim Jones",
          "Moonlight Murder"
         ],
         2627.25,
         "http://dummyimage.com/118x246.png/dddddd/000000",
         "1978-11-16",
         false
        ],
        [
         82,
         "Lucita",
         "Sowerbutts",
         [
          "Redemption: For Robbing the Dead",
          "Batman/Superman Movie, The",
          "Take My Eyes (Te doy mis ojos)"
         ],
         3052.35,
         "http://dummyimage.com/201x220.jpg/ff4444/ffffff",
         "1972-09-18",
         true
        ],
        [
         83,
         "Kalinda",
         "Pearcy",
         [
          "Blind Swordsman: Zatoichi, The (Zatôichi)"
         ],
         2824.97,
         "http://dummyimage.com/139x177.jpg/5fa2dd/ffffff",
         "1996-02-20",
         false
        ],
        [
         84,
         "Ricca",
         "Newgrosh",
         [
          "Documentarian",
          "Dare"
         ],
         3412.06,
         "http://dummyimage.com/135x132.jpg/5fa2dd/ffffff",
         "1984-07-27",
         false
        ],
        [
         85,
         "Maxine",
         "Ewenson",
         [
          "Savior",
          "Beaver Trilogy Part IV"
         ],
         3363.5,
         "http://dummyimage.com/171x235.png/cc0000/ffffff",
         "2001-01-24",
         false
        ],
        [
         86,
         "Welbie",
         "Crackel",
         [
          "All That Heaven Allows",
          "The New Babylon",
          "Fjorton suger"
         ],
         2720.28,
         "http://dummyimage.com/201x124.bmp/5fa2dd/ffffff",
         "1990-10-24",
         true
        ],
        [
         87,
         "Margareta",
         "Marusik",
         [
          "Eyjafjallajökull",
          "Made in America",
          "Minuscule: Valley of the Lost Ants (Minuscule - La vallée des fourmis perdues)"
         ],
         3416.97,
         "http://dummyimage.com/187x115.bmp/cc0000/ffffff",
         "1983-10-01",
         false
        ],
        [
         88,
         "Jobie",
         "Maughan",
         [
          "Devils on the Doorstep (Guizi lai le)",
          "On the Run"
         ],
         3899.2,
         "http://dummyimage.com/187x144.png/cc0000/ffffff",
         "2000-02-07",
         false
        ],
        [
         89,
         "Tish",
         "Machon",
         [
          "Arrowhead",
          "Simon"
         ],
         4830.06,
         "http://dummyimage.com/161x139.png/dddddd/000000",
         "1995-06-08",
         true
        ],
        [
         90,
         "Josy",
         "Pellew",
         [
          "Dominion: Prequel to the Exorcist"
         ],
         2791.54,
         "http://dummyimage.com/198x154.jpg/cc0000/ffffff",
         "1981-01-14",
         false
        ],
        [
         91,
         "Stanley",
         "Sargeaunt",
         [
          "Blow Out",
          "Ashes, The (Popioly)",
          "God Said 'Ha!'"
         ],
         2958.64,
         "http://dummyimage.com/149x140.png/ff4444/ffffff",
         "1986-09-12",
         false
        ],
        [
         92,
         "Daron",
         "Briance",
         [
          "Train on the Brain",
          "Two Thousand Maniacs!",
          "Anything Goes"
         ],
         4226.35,
         "http://dummyimage.com/110x137.png/5fa2dd/ffffff",
         "2002-02-22",
         true
        ],
        [
         93,
         "Janean",
         "Pelz",
         [
          "Once"
         ],
         4906.92,
         "http://dummyimage.com/241x212.jpg/ff4444/ffffff",
         "1975-09-23",
         true
        ],
        [
         94,
         "Bennie",
         "Knight",
         [
          "House on Carroll Street, The"
         ],
         2370.24,
         "http://dummyimage.com/183x155.png/cc0000/ffffff",
         "1977-08-27",
         false
        ],
        [
         95,
         "Cobb",
         "MacLure",
         [
          "Storage 24",
          "His Secret Life (a.k.a. Ignorant Fairies, The) (Fate ignoranti, Le)"
         ],
         1621.17,
         "http://dummyimage.com/181x215.png/ff4444/ffffff",
         "1994-06-28",
         false
        ],
        [
         96,
         "Dew",
         "Coopland",
         [
          "Rush"
         ],
         2725.56,
         "http://dummyimage.com/181x146.bmp/5fa2dd/ffffff",
         "1986-11-14",
         false
        ],
        [
         97,
         "Rodi",
         "Farnan",
         [
          "Code, The (Mentale, La)",
          "Guadalcanal Diary"
         ],
         2325.88,
         "http://dummyimage.com/214x164.bmp/ff4444/ffffff",
         "1972-01-04",
         false
        ],
        [
         98,
         "Davin",
         "Labb",
         [
          "Viva Riva!",
          "Killer Inside Me, The"
         ],
         1452.74,
         "http://dummyimage.com/238x145.bmp/ff4444/ffffff",
         "1988-01-27",
         true
        ],
        [
         99,
         "Rozalie",
         "Wannop",
         [
          "Suddenly",
          "The Noble Family"
         ],
         1259.64,
         "http://dummyimage.com/104x154.png/cc0000/ffffff",
         "1997-03-25",
         false
        ],
        [
         100,
         "Virgie",
         "Domanski",
         [
          "Horseman, The",
          "Sword of Desperation (Hisshiken torisashi)"
         ],
         2165.93,
         "http://dummyimage.com/220x111.png/ff4444/ffffff",
         "2002-01-05",
         true
        ]
       ],
       "datasetInfos": [],
       "dbfsResultPath": null,
       "isJsonSchema": true,
       "metadata": {},
       "overflow": false,
       "plotOptions": {
        "customPlotOptions": {},
        "displayType": "table",
        "pivotAggregation": null,
        "pivotColumns": null,
        "xColumns": null,
        "yColumns": null
       },
       "removedWidgets": [],
       "schema": [
        {
         "metadata": "{}",
         "name": "id",
         "type": "\"integer\""
        },
        {
         "metadata": "{}",
         "name": "first_name",
         "type": "\"string\""
        },
        {
         "metadata": "{}",
         "name": "last_name",
         "type": "\"string\""
        },
        {
         "metadata": "{}",
         "name": "fav_movies",
         "type": "{\"type\":\"array\",\"elementType\":\"string\",\"containsNull\":true}"
        },
        {
         "metadata": "{}",
         "name": "salary",
         "type": "\"float\""
        },
        {
         "metadata": "{}",
         "name": "image_url",
         "type": "\"string\""
        },
        {
         "metadata": "{}",
         "name": "date_of_birth",
         "type": "\"date\""
        },
        {
         "metadata": "{}",
         "name": "active",
         "type": "\"boolean\""
        }
       ],
       "type": "table"
      }
     },
     "output_type": "display_data"
    }
   ],
   "source": [
    "# con el siguiente comando podemos observar el dataframe como en pandas o en excel, de una manera más sencilla de visualizar: \n",
    "display(persons_df)"
   ]
  },
  {
   "cell_type": "markdown",
   "metadata": {
    "application/vnd.databricks.v1+cell": {
     "cellMetadata": {},
     "inputWidgets": {},
     "nuid": "a8361127-fd31-423d-9835-d4aaf32e9c84",
     "showTitle": false,
     "title": ""
    }
   },
   "source": [
    "###CONSULTA DE DATOS DF"
   ]
  },
  {
   "cell_type": "code",
   "execution_count": 0,
   "metadata": {
    "application/vnd.databricks.v1+cell": {
     "cellMetadata": {
      "byteLimit": 2048000,
      "rowLimit": 10000
     },
     "inputWidgets": {},
     "nuid": "47de4ff8-7df3-4b2e-8106-3beb20e6a0dc",
     "showTitle": true,
     "title": "SELECT"
    }
   },
   "outputs": [
    {
     "output_type": "stream",
     "name": "stdout",
     "output_type": "stream",
     "text": [
      "+---------+-------------+----------+----------+---------------------+\n|Order_ID |Item_Type    |Units_Sold|Unit_Price|Country              |\n+---------+-------------+----------+----------+---------------------+\n|535113847|Snacks       |934       |152.58    |Azerbaijan           |\n|874708545|Cosmetics    |4551      |437.2     |Panama               |\n|854349935|Fruits       |9986      |9.33      |Sao Tome and Principe|\n|892836844|Personal Care|9118      |81.73     |Sao Tome and Principe|\n|129280602|Household    |5858      |668.27    |Belize               |\n|473105037|Clothes      |1149      |109.28    |Denmark              |\n|754046475|Cosmetics    |7964      |437.2     |Germany              |\n|772153747|Fruits       |6307      |9.33      |Turkey               |\n|847788178|Snacks       |8217      |152.58    |United Kingdom       |\n|471623599|Cosmetics    |2758      |437.2     |Kazakhstan           |\n+---------+-------------+----------+----------+---------------------+\nonly showing top 10 rows\n\n"
     ]
    }
   ],
   "source": [
    "# los mismos comandos de SQL sirven para pyspark - el select nos selecciona las columnas que deseamos:\n",
    "sales_df.select('Order_ID','Item_Type','Units_Sold','Unit_Price','Country').show(10,truncate=False) # fijarse en la manera de llamar columnas con () y no en []\n",
    "# en .show() aclaramos el número de filas que queremos mostrar y el truncate = False nos trunca hacia la izquierda las columnas, si fuese True, hacia la derecha"
   ]
  },
  {
   "cell_type": "code",
   "execution_count": 0,
   "metadata": {
    "application/vnd.databricks.v1+cell": {
     "cellMetadata": {
      "byteLimit": 2048000,
      "rowLimit": 10000
     },
     "inputWidgets": {},
     "nuid": "61cae137-6e5a-4cc6-83a2-02c0c6671ace",
     "showTitle": false,
     "title": ""
    }
   },
   "outputs": [
    {
     "output_type": "stream",
     "name": "stdout",
     "output_type": "stream",
     "text": [
      "+---------+\n|Order_ID |\n+---------+\n|535113847|\n|874708545|\n|854349935|\n|892836844|\n|129280602|\n|473105037|\n|754046475|\n|772153747|\n|847788178|\n|471623599|\n+---------+\nonly showing top 10 rows\n\n"
     ]
    }
   ],
   "source": [
    "# podemos seleccionar las columnas también con df.COLUMNA como en pandas, igual\n",
    "sales_df.select(sales_df.Order_ID).show(10,truncate=False)"
   ]
  },
  {
   "cell_type": "code",
   "execution_count": 0,
   "metadata": {
    "application/vnd.databricks.v1+cell": {
     "cellMetadata": {
      "byteLimit": 2048000,
      "rowLimit": 10000
     },
     "inputWidgets": {},
     "nuid": "c430c650-9950-4345-abfb-10c151c40497",
     "showTitle": false,
     "title": ""
    }
   },
   "outputs": [
    {
     "output_type": "stream",
     "name": "stdout",
     "output_type": "stream",
     "text": [
      "+---------+-------------+------------------+\n| Order_ID|    Item_Type|       TOTAL_PRICE|\n+---------+-------------+------------------+\n|535113847|       Snacks|         142509.72|\n|874708545|    Cosmetics|         1989697.2|\n|854349935|       Fruits|          93169.38|\n|892836844|Personal Care|         745214.14|\n|129280602|    Household|3914725.6599999997|\n|473105037|      Clothes|         125562.72|\n|754046475|    Cosmetics|         3481860.8|\n|772153747|       Fruits|          58844.31|\n|847788178|       Snacks|        1253749.86|\n|471623599|    Cosmetics|1205797.5999999999|\n+---------+-------------+------------------+\nonly showing top 10 rows\n\n"
     ]
    }
   ],
   "source": [
    "# también podemos usar distintas funciones de sql que podemos importar desde la librería como col y expr, que son columnas y expresiones \n",
    "from pyspark.sql.functions import col, expr\n",
    "# las usamos así, donde en col seleccionamos la columna y en expr generamos una columna con una expresión, en este caso de unidades vendidas * precio de unidades para dar un precio total\n",
    "sales_df.select(col('Order_ID'), col('Item_Type'), expr(\"Units_Sold * Unit_Price as TOTAL_PRICE\")).show(10)"
   ]
  },
  {
   "cell_type": "code",
   "execution_count": 0,
   "metadata": {
    "application/vnd.databricks.v1+cell": {
     "cellMetadata": {
      "byteLimit": 2048000,
      "rowLimit": 10000
     },
     "inputWidgets": {},
     "nuid": "4374c944-f4e5-4a7d-bebe-843b56ff0b6e",
     "showTitle": true,
     "title": "FILTER / WHERE"
    }
   },
   "outputs": [
    {
     "output_type": "stream",
     "name": "stdout",
     "output_type": "stream",
     "text": [
      "+---------+-------+-------------+------------------+\n| Order_ID|Country|    Item_Type|       TOTAL_PRICE|\n+---------+-------+-------------+------------------+\n|860891091|  Spain|Personal Care|462591.80000000005|\n|413236844|  Spain|    Household|         3221061.4|\n|621470248|  Spain|      Clothes|         624207.36|\n|337587821|  Spain|   Vegetables|        1323837.58|\n|420354354|  Spain|       Snacks|         160056.42|\n+---------+-------+-------------+------------------+\nonly showing top 5 rows\n\n"
     ]
    }
   ],
   "source": [
    "# podemos obviamente también aplicarles filtros como el where de sql y lo ejecutamos con filter ANTES de seleccionar las columnas, así: \n",
    "sales_df.filter((col('Region')=='Europe') & (col('Country')=='Spain')) \\\n",
    ".select(col('Order_ID'), col('Country'), col('Item_Type'),expr(\"Units_Sold * Unit_Price as TOTAL_PRICE\")).show(5)\n",
    "# & como AND, | como OR, ~ como NOT"
   ]
  },
  {
   "cell_type": "code",
   "execution_count": 0,
   "metadata": {
    "application/vnd.databricks.v1+cell": {
     "cellMetadata": {
      "byteLimit": 2048000,
      "rowLimit": 10000
     },
     "inputWidgets": {},
     "nuid": "6b471c96-d5ed-495c-8c78-75b64e562288",
     "showTitle": false,
     "title": ""
    }
   },
   "outputs": [
    {
     "output_type": "stream",
     "name": "stdout",
     "output_type": "stream",
     "text": [
      "+---------+-------+-------------+------------------+\n| Order_ID|Country|    Item_Type|       TOTAL_PRICE|\n+---------+-------+-------------+------------------+\n|860891091|  Spain|Personal Care|462591.80000000005|\n|413236844|  Spain|    Household|         3221061.4|\n|621470248|  Spain|      Clothes|         624207.36|\n|337587821|  Spain|   Vegetables|        1323837.58|\n|420354354|  Spain|       Snacks|         160056.42|\n+---------+-------+-------------+------------------+\nonly showing top 5 rows\n\n"
     ]
    }
   ],
   "source": [
    "# así como podemos utilizar el .filter primero, también podemos usar el .where como en SQL con la diferencia que el where solamente admite un filtrado, hay que aplicar otro .where después con la siguiente condición\n",
    "sales_df.where(col('Region')=='Europe').where(col('Country')=='Spain') \\\n",
    ".select(col('Order_ID'),col('Country'),col('Item_Type'), expr(\"Units_Sold * Unit_Price as TOTAL_PRICE\")).show(5)\n"
   ]
  },
  {
   "cell_type": "code",
   "execution_count": 0,
   "metadata": {
    "application/vnd.databricks.v1+cell": {
     "cellMetadata": {
      "byteLimit": 2048000,
      "rowLimit": 10000
     },
     "inputWidgets": {},
     "nuid": "be026a66-f731-47d2-b897-51bc03975991",
     "showTitle": true,
     "title": "ORDERBY"
    }
   },
   "outputs": [
    {
     "output_type": "stream",
     "name": "stdout",
     "output_type": "stream",
     "text": [
      "+---------+------------------------------+---------------+----------+\n|Order_ID |Country                       |Item_Type      |Units_Sold|\n+---------+------------------------------+---------------+----------+\n|257909476|Cape Verde                    |Household      |10000     |\n|261322534|Comoros                       |Cosmetics      |10000     |\n|122941577|Federated States of Micronesia|Vegetables     |10000     |\n|225874030|Ghana                         |Cereal         |10000     |\n|143555104|Iceland                       |Personal Care  |10000     |\n|573532950|Iran                          |Snacks         |10000     |\n|885743367|Panama                        |Meat           |10000     |\n|230469834|Qatar                         |Meat           |10000     |\n|240709006|Andorra                       |Beverages      |9999      |\n|895982539|Cameroon                      |Beverages      |9999      |\n|572350203|Cote d'Ivoire                 |Snacks         |9999      |\n|264735591|Cote d'Ivoire                 |Personal Care  |9999      |\n|928017985|Haiti                         |Meat           |9999      |\n|746179664|Moldova                       |Clothes        |9999      |\n|936026847|Nepal                         |Office Supplies|9999      |\n|485435473|South Africa                  |Beverages      |9999      |\n|938257157|Benin                         |Beverages      |9998      |\n|820489728|Denmark                       |Vegetables     |9998      |\n|105741107|Greenland                     |Personal Care  |9998      |\n|646660268|Nicaragua                     |Office Supplies|9998      |\n+---------+------------------------------+---------------+----------+\nonly showing top 20 rows\n\n"
     ]
    }
   ],
   "source": [
    "# podemos también ordenar las columnas por valores ascendentes o descendentes con .orderBy DESPUÉS de seleccionar las columnas\n",
    "sales_df.select(col('Order_ID'),col('Country'),col('Item_Type'),col('Units_Sold')) \\\n",
    ".orderBy(col('Units_Sold').desc(),col('Country').asc()).show(20,truncate=False) # esto ordena por unidades vendidas, y con los mismos valores de unidades vendidas, ordena por país ascendente\n",
    "# para tratar con valores nulos existen las opciones ‘asc_nulls_first()’, ‘desc_nulls_first()’, ‘asc_nulls_last()’, ‘desc_nulls_last()’"
   ]
  },
  {
   "cell_type": "code",
   "execution_count": 0,
   "metadata": {
    "application/vnd.databricks.v1+cell": {
     "cellMetadata": {
      "byteLimit": 2048000,
      "rowLimit": 10000
     },
     "inputWidgets": {},
     "nuid": "519a3387-9268-49a6-a2a9-3ee6f5b65a55",
     "showTitle": true,
     "title": "DISTINCT"
    }
   },
   "outputs": [
    {
     "output_type": "stream",
     "name": "stdout",
     "output_type": "stream",
     "text": [
      "7\n"
     ]
    }
   ],
   "source": [
    "# podemos usar también el distinct de SQL para mostrar los valores únicos de las columnas. en este caso contamos los valores únicos de la columna Region:\n",
    "print(sales_df.select('Region').distinct().count())"
   ]
  },
  {
   "cell_type": "code",
   "execution_count": 0,
   "metadata": {
    "application/vnd.databricks.v1+cell": {
     "cellMetadata": {
      "byteLimit": 2048000,
      "rowLimit": 10000
     },
     "inputWidgets": {},
     "nuid": "15ae6b1f-f30d-4a60-832a-abf1992677ea",
     "showTitle": false,
     "title": ""
    }
   },
   "outputs": [
    {
     "output_type": "stream",
     "name": "stdout",
     "output_type": "stream",
     "text": [
      "+---------------------------------+\n|Region                           |\n+---------------------------------+\n|Middle East and North Africa     |\n|Australia and Oceania            |\n|Europe                           |\n|Sub-Saharan Africa               |\n|Central America and the Caribbean|\n|North America                    |\n|Asia                             |\n+---------------------------------+\n\n"
     ]
    }
   ],
   "source": [
    "# ahora mostramos las regiones distintas: \n",
    "sales_df.select('Region').distinct().show(truncate=False)"
   ]
  },
  {
   "cell_type": "code",
   "execution_count": 0,
   "metadata": {
    "application/vnd.databricks.v1+cell": {
     "cellMetadata": {
      "byteLimit": 2048000,
      "rowLimit": 10000
     },
     "inputWidgets": {},
     "nuid": "d0c0aa9c-3af1-45b5-8c88-8e0b9ca47721",
     "showTitle": true,
     "title": "LIMIT"
    }
   },
   "outputs": [
    {
     "output_type": "stream",
     "name": "stdout",
     "output_type": "stream",
     "text": [
      "Out[66]: 20"
     ]
    }
   ],
   "source": [
    "# también podemos limitar/RECORTAR a los números que queremos mostrar con .limit como sql. aquí contamos las filas que tenemos para observar que se limita perfetamente\n",
    "sales_df.select(col('Order_ID'),col('Country'),col('Item_Type'),col('Units_Sold')) \\\n",
    ".orderBy(col('Units_Sold').desc(),col('Country').asc()).limit(20).count()"
   ]
  },
  {
   "cell_type": "code",
   "execution_count": 0,
   "metadata": {
    "application/vnd.databricks.v1+cell": {
     "cellMetadata": {
      "byteLimit": 2048000,
      "rowLimit": 10000
     },
     "inputWidgets": {},
     "nuid": "1e3b2393-dac6-44f0-8a20-7254605455ea",
     "showTitle": false,
     "title": ""
    }
   },
   "outputs": [
    {
     "output_type": "stream",
     "name": "stdout",
     "output_type": "stream",
     "text": [
      "+---------+------------------------------+---------------+----------+\n|Order_ID |Country                       |Item_Type      |Units_Sold|\n+---------+------------------------------+---------------+----------+\n|257909476|Cape Verde                    |Household      |10000     |\n|261322534|Comoros                       |Cosmetics      |10000     |\n|122941577|Federated States of Micronesia|Vegetables     |10000     |\n|225874030|Ghana                         |Cereal         |10000     |\n|143555104|Iceland                       |Personal Care  |10000     |\n|573532950|Iran                          |Snacks         |10000     |\n|885743367|Panama                        |Meat           |10000     |\n|230469834|Qatar                         |Meat           |10000     |\n|240709006|Andorra                       |Beverages      |9999      |\n|895982539|Cameroon                      |Beverages      |9999      |\n|572350203|Cote d'Ivoire                 |Snacks         |9999      |\n|264735591|Cote d'Ivoire                 |Personal Care  |9999      |\n|928017985|Haiti                         |Meat           |9999      |\n|746179664|Moldova                       |Clothes        |9999      |\n|936026847|Nepal                         |Office Supplies|9999      |\n|485435473|South Africa                  |Beverages      |9999      |\n|938257157|Benin                         |Beverages      |9998      |\n|820489728|Denmark                       |Vegetables     |9998      |\n|105741107|Greenland                     |Personal Care  |9998      |\n|646660268|Nicaragua                     |Office Supplies|9998      |\n+---------+------------------------------+---------------+----------+\n\n"
     ]
    }
   ],
   "source": [
    "# donde aquí tenemos el dataframe de donde hemos limitado/recortado\n",
    "sales_df.select(col('Order_ID'),col('Country'),col('Item_Type'),col('Units_Sold')) \\\n",
    ".orderBy(col('Units_Sold').desc(),col('Country').asc()).limit(20).show(truncate=False)"
   ]
  },
  {
   "cell_type": "markdown",
   "metadata": {
    "application/vnd.databricks.v1+cell": {
     "cellMetadata": {},
     "inputWidgets": {},
     "nuid": "b63bfcca-3e84-4cf2-858a-5f6d6f804c55",
     "showTitle": false,
     "title": ""
    }
   },
   "source": [
    "##EJERCICIO\n",
    "###     Devolver los campos producto, unidades vendidas, fechas de pedido y envío, de las ventas de la Zona Logística de Asia, ordenadas por país. Sólo nos interesan los 10 primeros."
   ]
  },
  {
   "cell_type": "code",
   "execution_count": 0,
   "metadata": {
    "application/vnd.databricks.v1+cell": {
     "cellMetadata": {
      "byteLimit": 2048000,
      "rowLimit": 10000
     },
     "inputWidgets": {},
     "nuid": "a7322d02-c7b8-4f25-8a4f-1ec15baa436f",
     "showTitle": false,
     "title": ""
    }
   },
   "outputs": [
    {
     "output_type": "stream",
     "name": "stdout",
     "output_type": "stream",
     "text": [
      "+---------------+----------+----------+----------+\n|Item_Type      |Units_Sold|Order_Date|Ship_Date |\n+---------------+----------+----------+----------+\n|Baby Food      |1702      |2014-04-14|2014-04-22|\n|Clothes        |9353      |2013-05-09|2013-06-09|\n|Personal Care  |1898      |2013-04-27|2013-06-13|\n|Cosmetics      |8397      |2010-07-16|2010-08-11|\n|Fruits         |7747      |2017-01-11|2017-02-25|\n|Vegetables     |4335      |2010-11-08|2010-11-23|\n|Cosmetics      |7990      |2015-11-22|2015-12-16|\n|Snacks         |7953      |2015-11-17|2015-12-28|\n|Snacks         |5911      |2011-09-11|2011-10-19|\n|Office Supplies|9041      |2013-07-23|2013-08-08|\n+---------------+----------+----------+----------+\nonly showing top 10 rows\n\n"
     ]
    }
   ],
   "source": [
    "sales_df.where(col('Region')=='Asia') \\\n",
    ".select(col('Item_Type'),col('Units_Sold'),col('Order_Date'),col('Ship_Date')) \\\n",
    ".orderBy(col('Country').desc()).show(10,truncate=False)"
   ]
  },
  {
   "cell_type": "markdown",
   "metadata": {
    "application/vnd.databricks.v1+cell": {
     "cellMetadata": {},
     "inputWidgets": {},
     "nuid": "616b10f9-a3ec-4555-87ef-b60a15a8cd5c",
     "showTitle": false,
     "title": ""
    }
   },
   "source": [
    "##MODIFICAR DATOS DATAFRAME"
   ]
  },
  {
   "cell_type": "code",
   "execution_count": 0,
   "metadata": {
    "application/vnd.databricks.v1+cell": {
     "cellMetadata": {
      "byteLimit": 2048000,
      "rowLimit": 10000
     },
     "inputWidgets": {},
     "nuid": "334d13ec-2c51-431f-8c62-d5eafcce8863",
     "showTitle": true,
     "title": "WITHCOLUMN"
    }
   },
   "outputs": [
    {
     "output_type": "stream",
     "name": "stdout",
     "output_type": "stream",
     "text": [
      "+---------+----------+-------------+----------+----------+--------------------+--------------------+----------+-----+\n| Order_ID|Order_Date|    Item_Type|Units_Sold|Unit_Price|              Region|             Country| Ship_Date| Sent|\n+---------+----------+-------------+----------+----------+--------------------+--------------------+----------+-----+\n|535113847|2014-10-08|       Snacks|       934|    152.58|Middle East and N...|          Azerbaijan|2014-10-23|false|\n|874708545|2015-02-22|    Cosmetics|      4551|     437.2|Central America a...|              Panama|2015-02-27|false|\n|854349935|2015-12-09|       Fruits|      9986|      9.33|  Sub-Saharan Africa|Sao Tome and Prin...|2016-01-18|false|\n|892836844|2014-09-17|Personal Care|      9118|     81.73|  Sub-Saharan Africa|Sao Tome and Prin...|2014-10-12|false|\n|129280602|2010-02-04|    Household|      5858|    668.27|Central America a...|              Belize|2010-03-05|false|\n+---------+----------+-------------+----------+----------+--------------------+--------------------+----------+-----+\nonly showing top 5 rows\n\n+---------+----------+-------------+----------+----------+--------------------+--------------------+----------+-----------+\n| Order_ID|Order_Date|    Item_Type|Units_Sold|Unit_Price|              Region|             Country| Ship_Date|Total_Price|\n+---------+----------+-------------+----------+----------+--------------------+--------------------+----------+-----------+\n|535113847|2014-10-08|       Snacks|       934|    152.58|Middle East and N...|          Azerbaijan|2014-10-23|  142509.72|\n|874708545|2015-02-22|    Cosmetics|      4551|     437.2|Central America a...|              Panama|2015-02-27|  1989697.2|\n|854349935|2015-12-09|       Fruits|      9986|      9.33|  Sub-Saharan Africa|Sao Tome and Prin...|2016-01-18|   93169.38|\n|892836844|2014-09-17|Personal Care|      9118|     81.73|  Sub-Saharan Africa|Sao Tome and Prin...|2014-10-12|  745214.14|\n|129280602|2010-02-04|    Household|      5858|    668.27|Central America a...|              Belize|2010-03-05| 3914725.66|\n+---------+----------+-------------+----------+----------+--------------------+--------------------+----------+-----------+\nonly showing top 5 rows\n\n"
     ]
    }
   ],
   "source": [
    "# ahora podemos añadir nuevas columnas con la librería de funciones de sql, con la función lit\n",
    "from pyspark.sql.functions import lit\n",
    "# creamos una columna llamada Sent con la función lit como False\n",
    "# VALOR DETERMINADO\n",
    "sales_df.withColumn(\"Sent\", lit(False)).show(5)\n",
    "# creamos una columna nueva en el dataframe con una expresión de unidades vendidas * precio de unidades con la siguiente sintaxis\n",
    "# CAMPO CALCULADO\n",
    "sales_df.withColumn(\"Total_Price\", expr(\"round((Units_Sold *  Unit_Price),2)\")).show(5)"
   ]
  },
  {
   "cell_type": "code",
   "execution_count": 0,
   "metadata": {
    "application/vnd.databricks.v1+cell": {
     "cellMetadata": {
      "byteLimit": 2048000,
      "rowLimit": 10000
     },
     "inputWidgets": {},
     "nuid": "d3ac8c5a-6b8c-4bde-a2ca-dd9f61002ceb",
     "showTitle": true,
     "title": "WITHCOLUMNRENAMED"
    }
   },
   "outputs": [
    {
     "output_type": "stream",
     "name": "stdout",
     "output_type": "stream",
     "text": [
      "root\n |-- Order_ID: integer (nullable = true)\n |-- Order_Date: date (nullable = true)\n |-- Item_Type: string (nullable = true)\n |-- Units_Sold: integer (nullable = true)\n |-- Unit_Price: double (nullable = true)\n |-- Region: string (nullable = true)\n |-- Country: string (nullable = true)\n |-- Ship_Date: date (nullable = true)\n\nNone\n+---------+----------+---------------+----------+----------+---------------------------------+----------------------+----------+\n|Order_ID |Order_Date|Item_Type      |Units_Sold|Unit_Price|Logist_Area                      |Country               |Ship_Date |\n+---------+----------+---------------+----------+----------+---------------------------------+----------------------+----------+\n|535113847|2014-10-08|Snacks         |934       |152.58    |Middle East and North Africa     |Azerbaijan            |2014-10-23|\n|874708545|2015-02-22|Cosmetics      |4551      |437.2     |Central America and the Caribbean|Panama                |2015-02-27|\n|854349935|2015-12-09|Fruits         |9986      |9.33      |Sub-Saharan Africa               |Sao Tome and Principe |2016-01-18|\n|892836844|2014-09-17|Personal Care  |9118      |81.73     |Sub-Saharan Africa               |Sao Tome and Principe |2014-10-12|\n|129280602|2010-02-04|Household      |5858      |668.27    |Central America and the Caribbean|Belize                |2010-03-05|\n|473105037|2013-02-20|Clothes        |1149      |109.28    |Europe                           |Denmark               |2013-02-28|\n|754046475|2013-03-31|Cosmetics      |7964      |437.2     |Europe                           |Germany               |2013-05-03|\n|772153747|2012-03-26|Fruits         |6307      |9.33      |Middle East and North Africa     |Turkey                |2012-04-07|\n|847788178|2012-12-29|Snacks         |8217      |152.58    |Europe                           |United Kingdom        |2013-01-15|\n|471623599|2015-09-11|Cosmetics      |2758      |437.2     |Asia                             |Kazakhstan            |2015-09-18|\n|554646337|2013-12-27|Cosmetics      |1031      |437.2     |Central America and the Caribbean|Haiti                 |2014-01-01|\n|278155219|2013-12-17|Clothes        |1165      |109.28    |Europe                           |Italy                 |2014-01-10|\n|243761575|2015-03-10|Household      |3322      |668.27    |Europe                           |Malta                 |2015-04-17|\n|223389232|2014-07-09|Household      |4693      |668.27    |Middle East and North Africa     |Jordan                |2014-07-18|\n|509274518|2017-06-14|Vegetables     |4502      |154.06    |Asia                             |Cambodia              |2017-06-29|\n|563966262|2011-08-10|Office Supplies|9004      |651.21    |Central America and the Caribbean|Saint Kitts and Nevis |2011-08-29|\n|370325791|2015-12-18|Fruits         |6486      |9.33      |Sub-Saharan Africa               |Cameroon              |2016-02-06|\n|881526935|2016-06-26|Vegetables     |2264      |154.06    |Middle East and North Africa     |Bahrain               |2016-07-19|\n|871056020|2015-05-11|Beverages      |3688      |47.45     |Australia and Oceania            |Solomon Islands       |2015-05-30|\n|982711875|2012-01-13|Office Supplies|5137      |651.21    |Europe                           |Monaco                |2012-01-17|\n+---------+----------+---------------+----------+----------+---------------------------------+----------------------+----------+\nonly showing top 20 rows\n\n"
     ]
    }
   ],
   "source": [
    "print(sales_df.printSchema())\n",
    "# podemos cambiarle el nombre a una columa con .withColumnRenamed con la siguiente sintaxis\n",
    "sales_df.withColumnRenamed('Region','Logist_Area').show(truncate=False)"
   ]
  },
  {
   "cell_type": "code",
   "execution_count": 0,
   "metadata": {
    "application/vnd.databricks.v1+cell": {
     "cellMetadata": {
      "byteLimit": 2048000,
      "rowLimit": 10000
     },
     "inputWidgets": {},
     "nuid": "ead9aa78-a7a8-40fc-8138-101181ca5da1",
     "showTitle": true,
     "title": "DROP"
    }
   },
   "outputs": [
    {
     "output_type": "stream",
     "name": "stdout",
     "output_type": "stream",
     "text": [
      "root\n |-- Order_ID: integer (nullable = true)\n |-- Order_Date: date (nullable = true)\n |-- Item_Type: string (nullable = true)\n |-- Units_Sold: integer (nullable = true)\n |-- Country: string (nullable = true)\n |-- Ship_Date: date (nullable = true)\n |-- Total_Price: double (nullable = true)\n\n+---------+----------+-------------+----------+---------------------+----------+------------------+\n|Order_ID |Order_Date|Item_Type    |Units_Sold|Country              |Ship_Date |Total_Price       |\n+---------+----------+-------------+----------+---------------------+----------+------------------+\n|535113847|2014-10-08|Snacks       |934       |Azerbaijan           |2014-10-23|142509.72         |\n|874708545|2015-02-22|Cosmetics    |4551      |Panama               |2015-02-27|1989697.2         |\n|854349935|2015-12-09|Fruits       |9986      |Sao Tome and Principe|2016-01-18|93169.38          |\n|892836844|2014-09-17|Personal Care|9118      |Sao Tome and Principe|2014-10-12|745214.14         |\n|129280602|2010-02-04|Household    |5858      |Belize               |2010-03-05|3914725.6599999997|\n|473105037|2013-02-20|Clothes      |1149      |Denmark              |2013-02-28|125562.72         |\n|754046475|2013-03-31|Cosmetics    |7964      |Germany              |2013-05-03|3481860.8         |\n|772153747|2012-03-26|Fruits       |6307      |Turkey               |2012-04-07|58844.31          |\n|847788178|2012-12-29|Snacks       |8217      |United Kingdom       |2013-01-15|1253749.86        |\n|471623599|2015-09-11|Cosmetics    |2758      |Kazakhstan           |2015-09-18|1205797.5999999999|\n+---------+----------+-------------+----------+---------------------+----------+------------------+\nonly showing top 10 rows\n\n"
     ]
    }
   ],
   "source": [
    "# creamos un resumen del dataframe para no perder el original\n",
    "resumen_df = sales_df.withColumn(\"Total_Price\", expr(\"Units_Sold *  Unit_Price\"))\n",
    "# también podemos eliminar columnas, tanto las determinadas como las que hemos creado\n",
    "resumen_df2 = resumen_df.drop('Unit_Price','Region')\n",
    "resumen_df2.printSchema()\n",
    "resumen_df2.show(10, truncate=False)"
   ]
  },
  {
   "cell_type": "code",
   "execution_count": 0,
   "metadata": {
    "application/vnd.databricks.v1+cell": {
     "cellMetadata": {
      "byteLimit": 2048000,
      "rowLimit": 10000
     },
     "inputWidgets": {},
     "nuid": "97b2332d-5eb1-4aaf-b36d-05c2c40e10fd",
     "showTitle": true,
     "title": "DROPNA"
    }
   },
   "outputs": [
    {
     "output_type": "stream",
     "name": "stdout",
     "output_type": "stream",
     "text": [
      "+---------+-------------+-----+------+------+\n|firstname|     lastname|   id|gender|salary|\n+---------+-------------+-----+------+------+\n|     null|     Smith   |36636|     M|  3500|\n|  Michael|         Rose|40288|     M|  4750|\n|   Robert|     Williams|42114|     M|  null|\n|    Maria|    Jones    |39192|     F|  4000|\n+---------+-------------+-----+------+------+\n\n+---------+-------------+-----+------+------+\n|firstname|     lastname|   id|gender|salary|\n+---------+-------------+-----+------+------+\n|     null|     Smith   |36636|     M|  3500|\n|  Michael|         Rose|40288|     M|  4750|\n|    Maria|    Jones    |39192|     F|  4000|\n+---------+-------------+-----+------+------+\n\n"
     ]
    }
   ],
   "source": [
    "df.show()\n",
    "# también podemos eliminar aquellos valores nulos, identificando las columnas que queremos hacer el drop\n",
    "not_null_df = df.dropna(subset='salary')\n",
    "not_null_df.show()"
   ]
  },
  {
   "cell_type": "code",
   "execution_count": 0,
   "metadata": {
    "application/vnd.databricks.v1+cell": {
     "cellMetadata": {
      "byteLimit": 2048000,
      "rowLimit": 10000
     },
     "inputWidgets": {},
     "nuid": "56a666bb-c019-494a-9774-d7208f0ae592",
     "showTitle": true,
     "title": "CAST (cambiar tipo columna)"
    }
   },
   "outputs": [
    {
     "output_type": "stream",
     "name": "stdout",
     "output_type": "stream",
     "text": [
      "root\n |-- Order_ID: string (nullable = true)\n |-- Order_Date: date (nullable = true)\n |-- Item_Type: string (nullable = true)\n |-- Units_Sold: integer (nullable = true)\n |-- Unit_Price: double (nullable = true)\n |-- Region: string (nullable = true)\n |-- Country: string (nullable = true)\n |-- Ship_Date: date (nullable = true)\n\n"
     ]
    }
   ],
   "source": [
    "# podemos cambiar el tipo de una columna en concreto con .cast() y el tipo entre '' para que se guarde. esto sirve si se ha hecho mal el inferScheme, para poder cambiar el tipo de datos de manera sencilla\n",
    "sales_df.withColumn('Order_ID', col('Order_ID').cast('string')).printSchema()\n"
   ]
  },
  {
   "cell_type": "code",
   "execution_count": 0,
   "metadata": {
    "application/vnd.databricks.v1+cell": {
     "cellMetadata": {
      "byteLimit": 2048000,
      "rowLimit": 10000
     },
     "inputWidgets": {},
     "nuid": "92c4eedb-8e53-4554-9440-83287a3c94a0",
     "showTitle": true,
     "title": "*TRIM* (eliminar espacios columnas texto)"
    }
   },
   "outputs": [
    {
     "output_type": "stream",
     "name": "stdout",
     "output_type": "stream",
     "text": [
      "+---------+-------------+-----+------+------+\n|firstname|     lastname|   id|gender|salary|\n+---------+-------------+-----+------+------+\n|     null|     Smith   |36636|     M|  3500|\n|  Michael|         Rose|40288|     M|  4750|\n|   Robert|     Williams|42114|     M|  null|\n|    Maria|    Jones    |39192|     F|  4000|\n+---------+-------------+-----+------+------+\n\n+---------+--------+-----+------+------+\n|firstname|lastname|   id|gender|salary|\n+---------+--------+-----+------+------+\n|     null|   Smith|36636|     M|  3500|\n|  Michael|    Rose|40288|     M|  4750|\n|   Robert|Williams|42114|     M|  null|\n|    Maria|   Jones|39192|     F|  4000|\n+---------+--------+-----+------+------+\n\n"
     ]
    }
   ],
   "source": [
    "# para hacerlo bonito, podemos eliminar espacio de las columnas de texto con .ltrim, .rtrim y .trim\n",
    "from pyspark.sql.functions import ltrim, rtrim, trim\n",
    "# mostramos el dataframe para saber dónde tenemos espacios de más\n",
    "df.show()\n",
    "# corregimos con trim en la columna\n",
    "corregido2 = df.withColumn('lastname', trim(col('lastname')))\n",
    "# mostrmos el dataframe corregido\n",
    "corregido2.show()\n"
   ]
  },
  {
   "cell_type": "markdown",
   "metadata": {
    "application/vnd.databricks.v1+cell": {
     "cellMetadata": {},
     "inputWidgets": {},
     "nuid": "23e3ea86-7987-44d5-bf8e-3addf0387ebe",
     "showTitle": false,
     "title": ""
    }
   },
   "source": [
    "##EXTRA: ESCRIBIR (GUARDAR) DATAFRAME RESULTADO, FORMATO PARQUET (DISTRIBUIDO)"
   ]
  },
  {
   "cell_type": "code",
   "execution_count": 0,
   "metadata": {
    "application/vnd.databricks.v1+cell": {
     "cellMetadata": {
      "byteLimit": 2048000,
      "rowLimit": 10000
     },
     "inputWidgets": {},
     "nuid": "79231581-7c48-42a8-b0b7-4d140a0d1692",
     "showTitle": false,
     "title": ""
    }
   },
   "outputs": [],
   "source": [
    "# podemos guardar el datagrame del resultado en formato parquet en nuestro path de databricks\n",
    "path = 'dbfs:/FileStore/shared_uploads/jesuspt98@gmail.com/sales_clean'\n",
    "(sales_df.write\n",
    "       \t.format(\"parquet\")\n",
    "            \t.mode(\"overwrite\")\n",
    "            \t.option(\"compression\", \"snappy\")\n",
    "            \t.save(path))\n"
   ]
  },
  {
   "cell_type": "code",
   "execution_count": 0,
   "metadata": {
    "application/vnd.databricks.v1+cell": {
     "cellMetadata": {
      "byteLimit": 2048000,
      "rowLimit": 10000
     },
     "inputWidgets": {},
     "nuid": "d3ff60c8-0ad5-49fa-9e2c-2e1e6e727007",
     "showTitle": false,
     "title": ""
    }
   },
   "outputs": [
    {
     "output_type": "display_data",
     "data": {
      "text/html": [
       "<style scoped>\n",
       "  .table-result-container {\n",
       "    max-height: 300px;\n",
       "    overflow: auto;\n",
       "  }\n",
       "  table, th, td {\n",
       "    border: 1px solid black;\n",
       "    border-collapse: collapse;\n",
       "  }\n",
       "  th, td {\n",
       "    padding: 5px;\n",
       "  }\n",
       "  th {\n",
       "    text-align: left;\n",
       "  }\n",
       "</style><div class='table-result-container'><table class='table-result'><thead style='background-color: white'><tr><th>path</th><th>name</th><th>size</th><th>modificationTime</th></tr></thead><tbody><tr><td>dbfs:/FileStore/shared_uploads/jesuspt98@gmail.com/sales_clean/_SUCCESS</td><td>_SUCCESS</td><td>0</td><td>1697791607000</td></tr><tr><td>dbfs:/FileStore/shared_uploads/jesuspt98@gmail.com/sales_clean/_committed_7240800930604064197</td><td>_committed_7240800930604064197</td><td>224</td><td>1697791607000</td></tr><tr><td>dbfs:/FileStore/shared_uploads/jesuspt98@gmail.com/sales_clean/_started_7240800930604064197</td><td>_started_7240800930604064197</td><td>0</td><td>1697791606000</td></tr><tr><td>dbfs:/FileStore/shared_uploads/jesuspt98@gmail.com/sales_clean/part-00000-tid-7240800930604064197-d39c34be-b41b-47eb-b389-1faae9ffec3e-162-1-c000.snappy.parquet</td><td>part-00000-tid-7240800930604064197-d39c34be-b41b-47eb-b389-1faae9ffec3e-162-1-c000.snappy.parquet</td><td>662217</td><td>1697791607000</td></tr><tr><td>dbfs:/FileStore/shared_uploads/jesuspt98@gmail.com/sales_clean/part-00001-tid-7240800930604064197-d39c34be-b41b-47eb-b389-1faae9ffec3e-163-1-c000.snappy.parquet</td><td>part-00001-tid-7240800930604064197-d39c34be-b41b-47eb-b389-1faae9ffec3e-163-1-c000.snappy.parquet</td><td>588435</td><td>1697791607000</td></tr></tbody></table></div>"
      ]
     },
     "metadata": {
      "application/vnd.databricks.v1+output": {
       "addedWidgets": {},
       "aggData": [],
       "aggError": "",
       "aggOverflow": false,
       "aggSchema": [],
       "aggSeriesLimitReached": false,
       "aggType": "",
       "arguments": {},
       "columnCustomDisplayInfos": {},
       "data": [
        [
         "dbfs:/FileStore/shared_uploads/jesuspt98@gmail.com/sales_clean/_SUCCESS",
         "_SUCCESS",
         0,
         1697791607000
        ],
        [
         "dbfs:/FileStore/shared_uploads/jesuspt98@gmail.com/sales_clean/_committed_7240800930604064197",
         "_committed_7240800930604064197",
         224,
         1697791607000
        ],
        [
         "dbfs:/FileStore/shared_uploads/jesuspt98@gmail.com/sales_clean/_started_7240800930604064197",
         "_started_7240800930604064197",
         0,
         1697791606000
        ],
        [
         "dbfs:/FileStore/shared_uploads/jesuspt98@gmail.com/sales_clean/part-00000-tid-7240800930604064197-d39c34be-b41b-47eb-b389-1faae9ffec3e-162-1-c000.snappy.parquet",
         "part-00000-tid-7240800930604064197-d39c34be-b41b-47eb-b389-1faae9ffec3e-162-1-c000.snappy.parquet",
         662217,
         1697791607000
        ],
        [
         "dbfs:/FileStore/shared_uploads/jesuspt98@gmail.com/sales_clean/part-00001-tid-7240800930604064197-d39c34be-b41b-47eb-b389-1faae9ffec3e-163-1-c000.snappy.parquet",
         "part-00001-tid-7240800930604064197-d39c34be-b41b-47eb-b389-1faae9ffec3e-163-1-c000.snappy.parquet",
         588435,
         1697791607000
        ]
       ],
       "datasetInfos": [],
       "dbfsResultPath": null,
       "isJsonSchema": true,
       "metadata": {
        "isDbfsCommandResult": false
       },
       "overflow": false,
       "plotOptions": {
        "customPlotOptions": {},
        "displayType": "table",
        "pivotAggregation": null,
        "pivotColumns": null,
        "xColumns": null,
        "yColumns": null
       },
       "removedWidgets": [],
       "schema": [
        {
         "metadata": "{}",
         "name": "path",
         "type": "\"string\""
        },
        {
         "metadata": "{}",
         "name": "name",
         "type": "\"string\""
        },
        {
         "metadata": "{}",
         "name": "size",
         "type": "\"long\""
        },
        {
         "metadata": "{}",
         "name": "modificationTime",
         "type": "\"long\""
        }
       ],
       "type": "table"
      }
     },
     "output_type": "display_data"
    }
   ],
   "source": [
    "%fs ls 'dbfs:/FileStore/shared_uploads/jesuspt98@gmail.com/sales_clean'\n"
   ]
  }
 ],
 "metadata": {
  "application/vnd.databricks.v1+notebook": {
   "dashboards": [],
   "language": "python",
   "notebookMetadata": {
    "mostRecentlyExecutedCommandWithImplicitDF": {
     "commandId": 2878345278787894,
     "dataframes": [
      "_sqldf"
     ]
    },
    "pythonIndentUnit": 4
   },
   "notebookName": "DATAFRAMES",
   "widgets": {}
  }
 },
 "nbformat": 4,
 "nbformat_minor": 0
}
