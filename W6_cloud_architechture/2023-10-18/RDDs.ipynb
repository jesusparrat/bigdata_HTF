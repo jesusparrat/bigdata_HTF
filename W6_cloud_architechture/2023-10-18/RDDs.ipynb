{
 "cells": [
  {
   "cell_type": "markdown",
   "metadata": {
    "application/vnd.databricks.v1+cell": {
     "cellMetadata": {},
     "inputWidgets": {},
     "nuid": "9c5ed79d-42ef-4a6e-bbc4-f66511f1bcb7",
     "showTitle": false,
     "title": ""
    }
   },
   "source": [
    "#Funciones Lambda"
   ]
  },
  {
   "cell_type": "markdown",
   "metadata": {
    "application/vnd.databricks.v1+cell": {
     "cellMetadata": {},
     "inputWidgets": {},
     "nuid": "c74e0fc5-fe19-4040-af40-4413882fd338",
     "showTitle": false,
     "title": ""
    }
   },
   "source": [
    "Para entender las funciones lambda tenemos que tener claro primero las funciones normales: "
   ]
  },
  {
   "cell_type": "code",
   "execution_count": 0,
   "metadata": {
    "application/vnd.databricks.v1+cell": {
     "cellMetadata": {
      "byteLimit": 2048000,
      "rowLimit": 10000
     },
     "inputWidgets": {},
     "nuid": "6043fc6e-40c8-489c-aae3-6cfc5bbebf84",
     "showTitle": false,
     "title": ""
    }
   },
   "outputs": [],
   "source": [
    "# creamos una función de sumar dos números y nos devuelve su suma\n",
    "def sumar(a,b):\n",
    "    suma = a + b\n",
    "    return suma"
   ]
  },
  {
   "cell_type": "code",
   "execution_count": 0,
   "metadata": {
    "application/vnd.databricks.v1+cell": {
     "cellMetadata": {
      "byteLimit": 2048000,
      "rowLimit": 10000
     },
     "inputWidgets": {},
     "nuid": "a150175c-d8ac-4657-91ea-0a695f4c15e8",
     "showTitle": false,
     "title": ""
    }
   },
   "outputs": [
    {
     "output_type": "stream",
     "name": "stdout",
     "output_type": "stream",
     "text": [
      "Out[4]: 10"
     ]
    }
   ],
   "source": [
    "# probamos la función con los argumentos dados\n",
    "sumar(2,8)"
   ]
  },
  {
   "cell_type": "markdown",
   "metadata": {
    "application/vnd.databricks.v1+cell": {
     "cellMetadata": {},
     "inputWidgets": {},
     "nuid": "4edc66c3-dd2d-4bc5-9dfd-e3c35ec69a16",
     "showTitle": false,
     "title": ""
    }
   },
   "source": [
    "#### En RDDs podemos cambiar la estructura utilizada en python por otras que nos ayudan más para trabajar en Big Data:"
   ]
  },
  {
   "cell_type": "code",
   "execution_count": 0,
   "metadata": {
    "application/vnd.databricks.v1+cell": {
     "cellMetadata": {
      "byteLimit": 2048000,
      "rowLimit": 10000
     },
     "inputWidgets": {},
     "nuid": "fe056f3d-53dc-491f-8164-6ffd08e6c3a2",
     "showTitle": false,
     "title": ""
    }
   },
   "outputs": [],
   "source": [
    "# podemos usar sc.parallelize para crear una lista y la llamamos con .collect()\n",
    "numeros = sc.parallelize([1,2,3,4,5,6,7,8,9,10])\n",
    "numeros.collect()"
   ]
  },
  {
   "cell_type": "markdown",
   "metadata": {
    "application/vnd.databricks.v1+cell": {
     "cellMetadata": {},
     "inputWidgets": {},
     "nuid": "fe257a89-49c7-4d2d-b6ab-f780e6d5472c",
     "showTitle": false,
     "title": ""
    }
   },
   "source": [
    "##TRANSFORMACIONES"
   ]
  },
  {
   "cell_type": "code",
   "execution_count": 0,
   "metadata": {
    "application/vnd.databricks.v1+cell": {
     "cellMetadata": {
      "byteLimit": 2048000,
      "rowLimit": 10000
     },
     "inputWidgets": {},
     "nuid": "d03d6001-c4ea-46fa-88a7-87dbf93e0d68",
     "showTitle": true,
     "title": "Transformaciones MAP:"
    }
   },
   "outputs": [
    {
     "output_type": "stream",
     "name": "stdout",
     "output_type": "stream",
     "text": [
      "Out[10]: [3, 6, 9, 12, 15]"
     ]
    }
   ],
   "source": [
    "# establecemos una lista\n",
    "numeros = sc.parallelize([1,2,3,4,5])\n",
    "# utilizando la transformación map con la función lambda que asignemos hacemos que cada elemento de la lista se multiplique por 3\n",
    "num3 = numeros.map(lambda elemento: 3*elemento)\n",
    "# mostramos por pantalla\n",
    "num3.collect()\n"
   ]
  },
  {
   "cell_type": "code",
   "execution_count": 0,
   "metadata": {
    "application/vnd.databricks.v1+cell": {
     "cellMetadata": {
      "byteLimit": 2048000,
      "rowLimit": 10000
     },
     "inputWidgets": {},
     "nuid": "f4ffa4ea-5ddf-4864-a884-a88a7510bd9b",
     "showTitle": false,
     "title": ""
    }
   },
   "outputs": [
    {
     "output_type": "stream",
     "name": "stdout",
     "output_type": "stream",
     "text": [
      "Out[3]: ['hola', 'que', 'tal', 'bien']"
     ]
    }
   ],
   "source": [
    "# creamos una lista en palabras que está llena de strings escritos de forma diferente\n",
    "palabras = sc.parallelize(['HOLA', 'Que', 'TAL', 'Bien'])\n",
    "# ahora con map y la función lambda hacemos que cada elemento de la lista se convierta en minúsculas y lo guardamos en otra variable\n",
    "pal_minus = palabras.map(lambda elemento: elemento.lower())\n",
    "# mostramos por pantalla\n",
    "pal_minus.collect()"
   ]
  },
  {
   "cell_type": "code",
   "execution_count": 0,
   "metadata": {
    "application/vnd.databricks.v1+cell": {
     "cellMetadata": {
      "byteLimit": 2048000,
      "rowLimit": 10000
     },
     "inputWidgets": {},
     "nuid": "b592f922-658b-49e8-a650-6c3ce6e3e5f8",
     "showTitle": true,
     "title": "Transformaciones FILTER"
    }
   },
   "outputs": [
    {
     "output_type": "stream",
     "name": "stdout",
     "output_type": "stream",
     "text": [
      "Out[2]: [2, 4]"
     ]
    }
   ],
   "source": [
    "# establecemos una lista\n",
    "numeros = sc.parallelize([1,2,3,4,5])\n",
    "# ahora con la función filter y lambda podemos filtrar los elementos de la lista estableciéndoles una condición, como que sean pares (ya que su resto entre 2 es 0)\n",
    "pares_rdd = numeros.filter(lambda elemento: elemento%2 == 0)\n",
    "# mostamos por pantalla\n",
    "pares_rdd.collect()"
   ]
  },
  {
   "cell_type": "code",
   "execution_count": 0,
   "metadata": {
    "application/vnd.databricks.v1+cell": {
     "cellMetadata": {
      "byteLimit": 2048000,
      "rowLimit": 10000
     },
     "inputWidgets": {},
     "nuid": "6d1a037e-6dd5-46bd-8a5f-5b1b2e410113",
     "showTitle": false,
     "title": ""
    }
   },
   "outputs": [
    {
     "output_type": "stream",
     "name": "stdout",
     "output_type": "stream",
     "text": [
      "Out[4]: ['E: e21', 'E: e45']"
     ]
    }
   ],
   "source": [
    "# tenemos una lista de errores y warnings\n",
    "log = sc.parallelize(['E: e21', 'W: w12', 'W: w13', 'E: e45'])\n",
    "# queremos filtrar los errores, que son los elementos que empiezan con E, por eso usamos filter con la función lambda temporal que queremos filtrar\n",
    "errors = log.filter(lambda elemento: elemento[0]=='E')\n",
    "# mostamos por pantalla\n",
    "errors.collect()"
   ]
  },
  {
   "cell_type": "markdown",
   "metadata": {
    "application/vnd.databricks.v1+cell": {
     "cellMetadata": {},
     "inputWidgets": {},
     "nuid": "b5efe3e5-78bb-4614-bab1-0ee199ab351f",
     "showTitle": false,
     "title": ""
    }
   },
   "source": [
    "#####Recuperar del log anterior los eventos de la linea/celda 12 (cadenas que terminen en <12>):"
   ]
  },
  {
   "cell_type": "code",
   "execution_count": 0,
   "metadata": {
    "application/vnd.databricks.v1+cell": {
     "cellMetadata": {
      "byteLimit": 2048000,
      "rowLimit": 10000
     },
     "inputWidgets": {},
     "nuid": "7cc65419-8b75-43e5-9a8a-a89b91024110",
     "showTitle": false,
     "title": ""
    }
   },
   "outputs": [
    {
     "output_type": "stream",
     "name": "stdout",
     "output_type": "stream",
     "text": [
      "Out[16]: ['W: w12']"
     ]
    }
   ],
   "source": [
    "# creamos una variable para almacenar los eventos que queremos filtrar, aplicamos filter() con la función lambda que deseamos, este caso con formato slicing para cada elemento que acabe con 12\n",
    "events = log.filter(lambda elemento: elemento[4:6]=='12')\n",
    "# mostamos por pantalla\n",
    "events.collect()"
   ]
  },
  {
   "cell_type": "code",
   "execution_count": 0,
   "metadata": {
    "application/vnd.databricks.v1+cell": {
     "cellMetadata": {
      "byteLimit": 2048000,
      "rowLimit": 10000
     },
     "inputWidgets": {},
     "nuid": "4e6ae64f-f84c-435a-9686-158a7d85af8b",
     "showTitle": false,
     "title": ""
    }
   },
   "outputs": [
    {
     "output_type": "stream",
     "name": "stdout",
     "output_type": "stream",
     "text": [
      "Variable    Type            Data/Info\n-------------------------------------\nerrors      PipelinedRDD    PythonRDD[6] at wrapper a<...>mmand-3540625238406604>:6\nlog         RDD             ParallelCollectionRDD[5] <...>am at PythonRDD.scala:435\nnumeros     RDD             ParallelCollectionRDD[1] <...>am at PythonRDD.scala:435\npal_minus   PipelinedRDD    PythonRDD[4] at wrapper a<...>mmand-3540625238406601>:6\npalabras    RDD             ParallelCollectionRDD[3] <...>am at PythonRDD.scala:435\npares_rdd   PipelinedRDD    PythonRDD[2] at wrapper a<...>mmand-3540625238406603>:6\n"
     ]
    }
   ],
   "source": [
    "# EXTRA: aquí con esta función vemos qué variables se han declarado\n",
    "%whos"
   ]
  },
  {
   "cell_type": "code",
   "execution_count": 0,
   "metadata": {
    "application/vnd.databricks.v1+cell": {
     "cellMetadata": {
      "byteLimit": 2048000,
      "rowLimit": 10000
     },
     "inputWidgets": {},
     "nuid": "5c219337-dd10-4a1c-8a2b-172e5e5f26f8",
     "showTitle": true,
     "title": "FLATMAP"
    }
   },
   "outputs": [
    {
     "output_type": "stream",
     "name": "stdout",
     "output_type": "stream",
     "text": [
      "Out[28]: [[1, 10], [2, 20], [3, 30], [4, 40], [5, 50]]"
     ]
    }
   ],
   "source": [
    "numeros = sc.parallelize([1,2,3,4,5])\n",
    "\n",
    "rdd = numeros.flatMap(lambda elemento : [elemento, 10*elemento]) # esto nos da una salida toda plana, en una lista entera sin separaciones\n",
    "\n",
    "rdd2 = numeros.map(lambda elemento : [elemento, 10*elemento]) # esto da una salida que separa en listas con las condiciones en una lista grande\n",
    "\n",
    "\n",
    "rdd.collect()"
   ]
  },
  {
   "cell_type": "code",
   "execution_count": 0,
   "metadata": {
    "application/vnd.databricks.v1+cell": {
     "cellMetadata": {
      "byteLimit": 2048000,
      "rowLimit": 10000
     },
     "inputWidgets": {},
     "nuid": "0e873292-bfcc-4207-a4cf-aba5a295bb32",
     "showTitle": true,
     "title": "Comparar MAP y FLATMAP"
    }
   },
   "outputs": [
    {
     "output_type": "stream",
     "name": "stdout",
     "output_type": "stream",
     "text": [
      "RDD ORIGINAL:  ['', 'a', 'a b', 'a b c']\nRDD resultado MAP:  [[], ['a'], ['a', 'b'], ['a', 'b', 'c']]\nRDD resultado FLATMAP:  ['a', 'a', 'b', 'a', 'b', 'c']\n"
     ]
    }
   ],
   "source": [
    "lineas = sc.parallelize(['', 'a', 'a b', 'a b c'])\n",
    "\n",
    "palabras_map = lineas.map(lambda elemento: elemento.split())\n",
    "\n",
    "palabras_flat = lineas.flatMap(lambda elemento: elemento.split())\n",
    "# aquí vamos a ver mejor la diferencia entre map y flatmap \n",
    "print('RDD ORIGINAL: ', lineas.collect())\n",
    "print('RDD resultado MAP: ', palabras_map. collect())\n",
    "print('RDD resultado FLATMAP: ', palabras_flat.collect())\n"
   ]
  },
  {
   "cell_type": "code",
   "execution_count": 0,
   "metadata": {
    "application/vnd.databricks.v1+cell": {
     "cellMetadata": {
      "byteLimit": 2048000,
      "rowLimit": 10000
     },
     "inputWidgets": {},
     "nuid": "8fe1701b-808b-49eb-8008-3e6a4f7d50f8",
     "showTitle": false,
     "title": ""
    }
   },
   "outputs": [
    {
     "output_type": "stream",
     "name": "stdout",
     "output_type": "stream",
     "text": [
      "Out[34]: ['el', 'quijote', 'mola', 'mazo', 'manin']"
     ]
    }
   ],
   "source": [
    "mensaje = \"el quijote mola mazo manin\"\n",
    "mensaje.split(\"m\") # esto separa las palabras por la cadena que queremos que las separe\n",
    "mensaje.split()"
   ]
  },
  {
   "cell_type": "code",
   "execution_count": 0,
   "metadata": {
    "application/vnd.databricks.v1+cell": {
     "cellMetadata": {
      "byteLimit": 2048000,
      "rowLimit": 10000
     },
     "inputWidgets": {},
     "nuid": "e11fa9d8-3c31-41be-88bb-397e7ed1d7d2",
     "showTitle": true,
     "title": "DISTINCT"
    }
   },
   "outputs": [
    {
     "output_type": "stream",
     "name": "stdout",
     "output_type": "stream",
     "text": [
      "Out[43]: [1, 2, 5]"
     ]
    }
   ],
   "source": [
    "numeros = sc.parallelize([1,1,2,2,5])\n",
    "\n",
    "unicos = numeros.distinct()\n",
    "unicos.collect()\n"
   ]
  },
  {
   "cell_type": "code",
   "execution_count": 0,
   "metadata": {
    "application/vnd.databricks.v1+cell": {
     "cellMetadata": {
      "byteLimit": 2048000,
      "rowLimit": 10000
     },
     "inputWidgets": {},
     "nuid": "fab03c00-b418-47a3-b9a4-cb3a736c607a",
     "showTitle": false,
     "title": ""
    }
   },
   "outputs": [],
   "source": []
  },
  {
   "cell_type": "code",
   "execution_count": 0,
   "metadata": {
    "application/vnd.databricks.v1+cell": {
     "cellMetadata": {
      "byteLimit": 2048000,
      "rowLimit": 10000
     },
     "inputWidgets": {},
     "nuid": "98394b19-9cbf-4a99-92a0-b9b991e266b7",
     "showTitle": true,
     "title": "SAMPLE"
    }
   },
   "outputs": [
    {
     "output_type": "stream",
     "name": "stdout",
     "output_type": "stream",
     "text": [
      "Out[88]: []"
     ]
    }
   ],
   "source": [
    "numeros = sc.parallelize([1,2,3,4,5,6,7,8,9,10])\n",
    "\n",
    "muestra = numeros.sample(False, 0.1) # True CON reemplazamiento, False SIN reemplazamiento /// el número es un número entre 0 y 1 en el que te da unos valores aproximados a los que se pone, por ejemplo 0.5 te saldrían, de una lista de 10, aproximadamente una lista de 5 valores. En listas pequeñas no tiene sentido pero en 1 millón de datos se cogen la mitad de samples de forma aleatoria y da igual cuántos son, mientras se coja aproximadamente\n",
    "\n",
    "muestra.collect()"
   ]
  },
  {
   "cell_type": "code",
   "execution_count": 0,
   "metadata": {
    "application/vnd.databricks.v1+cell": {
     "cellMetadata": {
      "byteLimit": 2048000,
      "rowLimit": 10000
     },
     "inputWidgets": {},
     "nuid": "0d4d73e8-4f80-4b1b-aeed-e3125d7897e9",
     "showTitle": false,
     "title": ""
    }
   },
   "outputs": [],
   "source": []
  },
  {
   "cell_type": "code",
   "execution_count": 0,
   "metadata": {
    "application/vnd.databricks.v1+cell": {
     "cellMetadata": {
      "byteLimit": 2048000,
      "rowLimit": 10000
     },
     "inputWidgets": {},
     "nuid": "79e9dfa8-1fd9-4a4e-9a8c-a6e33b3ac7b9",
     "showTitle": true,
     "title": "UNION"
    }
   },
   "outputs": [
    {
     "output_type": "stream",
     "name": "stdout",
     "output_type": "stream",
     "text": [
      "Out[42]: [2, 4, 6, 8, 10, 1, 3, 5, 7, 9]"
     ]
    }
   ],
   "source": [
    "pares = sc.parallelize([2,4,6,8,10])\n",
    "impares = sc.parallelize([1,3,5,7,9])\n",
    "\n",
    "numeros = pares.union(impares)\n",
    "\n",
    "numeros.collect()"
   ]
  },
  {
   "cell_type": "code",
   "execution_count": 0,
   "metadata": {
    "application/vnd.databricks.v1+cell": {
     "cellMetadata": {
      "byteLimit": 2048000,
      "rowLimit": 10000
     },
     "inputWidgets": {},
     "nuid": "2e4a3d9e-9318-48ac-9b5a-429a7370b09c",
     "showTitle": true,
     "title": "Verificar DAG"
    }
   },
   "outputs": [
    {
     "output_type": "stream",
     "name": "stdout",
     "output_type": "stream",
     "text": [
      "Out[64]: ['I: i11', 'I: i11', 'E: e21', 'E: e45']"
     ]
    }
   ],
   "source": [
    "log = sc.parallelize(['E: e21', 'I: i11', 'W: w12', 'I: i11', 'W: w13', 'E: e45'])\n",
    "log.setName(\"RDD ORIGINAL (partida)\")\n",
    "\n",
    "info = log.filter(lambda elemento: elemento[0]=='I')\n",
    "info.setName(\"RDD resultado filtrado INFO\")\n",
    "\n",
    "error = log.filter(lambda elemento: elemento[0]=='E')\n",
    "error.setName(\"RDD resultado filtrado ERROR\")\n",
    "\n",
    "inferr = info.union(error)\n",
    "inferr.setName(\"RDD resultado UNION\")\n",
    "\n",
    "inferr.collect()\n"
   ]
  },
  {
   "cell_type": "code",
   "execution_count": 0,
   "metadata": {
    "application/vnd.databricks.v1+cell": {
     "cellMetadata": {
      "byteLimit": 2048000,
      "rowLimit": 10000
     },
     "inputWidgets": {},
     "nuid": "21a7737f-1ac2-4e4a-84ba-aae5410b2a2d",
     "showTitle": false,
     "title": ""
    }
   },
   "outputs": [],
   "source": []
  },
  {
   "cell_type": "markdown",
   "metadata": {
    "application/vnd.databricks.v1+cell": {
     "cellMetadata": {},
     "inputWidgets": {},
     "nuid": "6f61f4a9-377e-4f11-9019-201c66a8c372",
     "showTitle": false,
     "title": ""
    }
   },
   "source": [
    "###ACCIONES"
   ]
  },
  {
   "cell_type": "code",
   "execution_count": 0,
   "metadata": {
    "application/vnd.databricks.v1+cell": {
     "cellMetadata": {
      "byteLimit": 2048000,
      "rowLimit": 10000
     },
     "inputWidgets": {},
     "nuid": "087421ac-4119-4491-a01a-eb6578d4b386",
     "showTitle": true,
     "title": "COUNT"
    }
   },
   "outputs": [
    {
     "output_type": "stream",
     "name": "stdout",
     "output_type": "stream",
     "text": [
      "Out[65]: 5"
     ]
    }
   ],
   "source": [
    "numeros = sc.parallelize([1,2,3,4,5,6,7,8,9,10])\n",
    "\n",
    "pares = numeros.filter(lambda elemento: elemento%2==0)\n",
    "\n",
    "pares.count()\n"
   ]
  },
  {
   "cell_type": "code",
   "execution_count": 0,
   "metadata": {
    "application/vnd.databricks.v1+cell": {
     "cellMetadata": {
      "byteLimit": 2048000,
      "rowLimit": 10000
     },
     "inputWidgets": {},
     "nuid": "5f732f3e-9f11-40ac-9512-45edbbc7f9bd",
     "showTitle": false,
     "title": ""
    }
   },
   "outputs": [],
   "source": []
  },
  {
   "cell_type": "code",
   "execution_count": 0,
   "metadata": {
    "application/vnd.databricks.v1+cell": {
     "cellMetadata": {
      "byteLimit": 2048000,
      "rowLimit": 10000
     },
     "inputWidgets": {},
     "nuid": "09985b87-b4d3-4d3b-8ff7-76d8649ab6aa",
     "showTitle": true,
     "title": "REDUCE"
    }
   },
   "outputs": [
    {
     "output_type": "stream",
     "name": "stdout",
     "output_type": "stream",
     "text": [
      "Out[66]: 15"
     ]
    }
   ],
   "source": [
    "numeros = sc.parallelize([1,2,3,4,5])\n",
    "\n",
    "numeros.reduce(lambda elem1,elem2: elem1+elem2) # esto suma todos los números, uno tras otro, de la variable numeros. reduce los parámetros de entrada, que son 2, en 1\n"
   ]
  },
  {
   "cell_type": "code",
   "execution_count": 0,
   "metadata": {
    "application/vnd.databricks.v1+cell": {
     "cellMetadata": {
      "byteLimit": 2048000,
      "rowLimit": 10000
     },
     "inputWidgets": {},
     "nuid": "87bc417e-a35e-4218-a6dc-18d71ef6336a",
     "showTitle": false,
     "title": ""
    }
   },
   "outputs": [
    {
     "output_type": "stream",
     "name": "stdout",
     "output_type": "stream",
     "text": [
      "hola que tal bien\n"
     ]
    }
   ],
   "source": [
    "palabras = sc.parallelize(['HOLA', 'Que', 'TAL', 'Bien'])\n",
    "\n",
    "pal_minus = palabras.map(lambda elemento: elemento.lower())\n",
    "\n",
    "print(pal_minus.reduce(lambda elem1,elem2: elem1 + \" \" + elem2))\n"
   ]
  },
  {
   "cell_type": "code",
   "execution_count": 0,
   "metadata": {
    "application/vnd.databricks.v1+cell": {
     "cellMetadata": {
      "byteLimit": 2048000,
      "rowLimit": 10000
     },
     "inputWidgets": {},
     "nuid": "4739d021-698f-4ffc-a398-3781dc96a9b3",
     "showTitle": false,
     "title": ""
    }
   },
   "outputs": [],
   "source": []
  },
  {
   "cell_type": "code",
   "execution_count": 0,
   "metadata": {
    "application/vnd.databricks.v1+cell": {
     "cellMetadata": {
      "byteLimit": 2048000,
      "rowLimit": 10000
     },
     "inputWidgets": {},
     "nuid": "7d728807-2379-4bee-9d09-6d4b90276fde",
     "showTitle": true,
     "title": "CASO: funcion definida anteriormente en vez de LAMBDA"
    }
   },
   "outputs": [],
   "source": [
    "palabras2 = sc.parallelize(['Como', 'te', 'encuentras', 'hoy'])\n"
   ]
  },
  {
   "cell_type": "code",
   "execution_count": 0,
   "metadata": {
    "application/vnd.databricks.v1+cell": {
     "cellMetadata": {
      "byteLimit": 2048000,
      "rowLimit": 10000
     },
     "inputWidgets": {},
     "nuid": "5c15c2a0-432a-4ede-9379-6f98e2d5c1bd",
     "showTitle": false,
     "title": ""
    }
   },
   "outputs": [],
   "source": [
    "def cadena_larga(elem1, elem2):\n",
    " \n",
    "    if len(elem1) >= len(elem2):\n",
    "        return elem1\n",
    "    else:\n",
    "        return elem2\n"
   ]
  },
  {
   "cell_type": "code",
   "execution_count": 0,
   "metadata": {
    "application/vnd.databricks.v1+cell": {
     "cellMetadata": {
      "byteLimit": 2048000,
      "rowLimit": 10000
     },
     "inputWidgets": {},
     "nuid": "b9cb1ad4-a3b9-4325-902b-0a8a7890c9b5",
     "showTitle": false,
     "title": ""
    }
   },
   "outputs": [
    {
     "output_type": "stream",
     "name": "stdout",
     "output_type": "stream",
     "text": [
      "Out[50]: 'encuentras'"
     ]
    }
   ],
   "source": [
    "palabras2.reduce(cadena_larga)\n"
   ]
  },
  {
   "cell_type": "code",
   "execution_count": 0,
   "metadata": {
    "application/vnd.databricks.v1+cell": {
     "cellMetadata": {
      "byteLimit": 2048000,
      "rowLimit": 10000
     },
     "inputWidgets": {},
     "nuid": "e46b2a5f-518d-44ad-a96e-5123af7a20b6",
     "showTitle": false,
     "title": ""
    }
   },
   "outputs": [],
   "source": []
  },
  {
   "cell_type": "code",
   "execution_count": 0,
   "metadata": {
    "application/vnd.databricks.v1+cell": {
     "cellMetadata": {
      "byteLimit": 2048000,
      "rowLimit": 10000
     },
     "inputWidgets": {},
     "nuid": "ac4420c7-8c3e-4c83-b636-245ca5ab608c",
     "showTitle": true,
     "title": "TAKE"
    }
   },
   "outputs": [
    {
     "output_type": "stream",
     "name": "stdout",
     "output_type": "stream",
     "text": [
      "Out[73]: [5, 3, 2]"
     ]
    }
   ],
   "source": [
    "numeros = sc.parallelize([5,3,2,1,4])\n",
    "numeros.take(3)"
   ]
  },
  {
   "cell_type": "code",
   "execution_count": 0,
   "metadata": {
    "application/vnd.databricks.v1+cell": {
     "cellMetadata": {
      "byteLimit": 2048000,
      "rowLimit": 10000
     },
     "inputWidgets": {},
     "nuid": "238720fb-1a70-4384-a0dc-6740f18b3345",
     "showTitle": false,
     "title": ""
    }
   },
   "outputs": [],
   "source": []
  },
  {
   "cell_type": "code",
   "execution_count": 0,
   "metadata": {
    "application/vnd.databricks.v1+cell": {
     "cellMetadata": {
      "byteLimit": 2048000,
      "rowLimit": 10000
     },
     "inputWidgets": {},
     "nuid": "c4d151a6-a2ee-4b38-a368-bcb354006b13",
     "showTitle": true,
     "title": "TAKEORDERED"
    }
   },
   "outputs": [
    {
     "output_type": "stream",
     "name": "stdout",
     "output_type": "stream",
     "text": [
      "[1, 2, 3]\n"
     ]
    }
   ],
   "source": [
    "numeros = sc.parallelize([3,2,4,5,1])\n",
    "\n",
    "print(numeros.takeOrdered(3))\n"
   ]
  },
  {
   "cell_type": "code",
   "execution_count": 0,
   "metadata": {
    "application/vnd.databricks.v1+cell": {
     "cellMetadata": {
      "byteLimit": 2048000,
      "rowLimit": 10000
     },
     "inputWidgets": {},
     "nuid": "76d170bf-2355-4e08-aa35-7ee336882508",
     "showTitle": false,
     "title": ""
    }
   },
   "outputs": [
    {
     "output_type": "stream",
     "name": "stdout",
     "output_type": "stream",
     "text": [
      "[5, 4, 3]\n"
     ]
    }
   ],
   "source": [
    "numeros = sc.parallelize([3,2,1,4,5])\n",
    "\n",
    "print(numeros.takeOrdered(3, lambda elem: -elem)) # esto devuelve la lista reordenada dada al revés. lo cambia internamente ordenado y lo cambia también cambiado de signo\n"
   ]
  },
  {
   "cell_type": "code",
   "execution_count": 0,
   "metadata": {
    "application/vnd.databricks.v1+cell": {
     "cellMetadata": {
      "byteLimit": 2048000,
      "rowLimit": 10000
     },
     "inputWidgets": {},
     "nuid": "c228bd20-9b65-431b-9f54-6b1a9a7f7e4d",
     "showTitle": false,
     "title": ""
    }
   },
   "outputs": [],
   "source": []
  },
  {
   "cell_type": "code",
   "execution_count": 0,
   "metadata": {
    "application/vnd.databricks.v1+cell": {
     "cellMetadata": {
      "byteLimit": 2048000,
      "rowLimit": 10000
     },
     "inputWidgets": {},
     "nuid": "21a45de0-5b6d-48ae-a5de-d96797ba0bcc",
     "showTitle": true,
     "title": "RDDs de tipos compuestos: ejemplo tabla"
    }
   },
   "outputs": [
    {
     "output_type": "stream",
     "name": "stdout",
     "output_type": "stream",
     "text": [
      "Out[76]: [('Juan Carlos', 1700, 32, True),\n ('Marco Antonio', 3600, 26, True),\n ('Alicia Prieto', 600, 18, False)]"
     ]
    }
   ],
   "source": [
    "empleados = sc.parallelize([(\"Juan Carlos\", 1700, 32, True), \n",
    "                            (\"Marco Antonio\", 3600, 26, True), \n",
    "                            (\"Alicia Prieto\", 600, 18, False)])\n",
    "# nombre, sueldo, edad, activo (Sí/no)\n",
    "empleados.collect()  # para mostrarlos por pantalla"
   ]
  },
  {
   "cell_type": "code",
   "execution_count": 0,
   "metadata": {
    "application/vnd.databricks.v1+cell": {
     "cellMetadata": {
      "byteLimit": 2048000,
      "rowLimit": 10000
     },
     "inputWidgets": {},
     "nuid": "260fc1a3-97bb-48c1-9c9a-6a4d2e61ad44",
     "showTitle": false,
     "title": ""
    }
   },
   "outputs": [
    {
     "output_type": "stream",
     "name": "stdout",
     "output_type": "stream",
     "text": [
      "Out[83]: [('Juan Carlos', 1700, 32, True), ('Marco Antonio', 3600, 26, True)]"
     ]
    }
   ],
   "source": [
    "activos = empleados.filter(lambda elemento: elemento[3] is True) # mejor utilizar is True que == True, mejor práctica de programacion\n",
    "\n",
    "activos.collect()"
   ]
  }
 ],
 "metadata": {
  "application/vnd.databricks.v1+notebook": {
   "dashboards": [],
   "language": "python",
   "notebookMetadata": {
    "pythonIndentUnit": 4
   },
   "notebookName": "RDDs",
   "widgets": {}
  }
 },
 "nbformat": 4,
 "nbformat_minor": 0
}
