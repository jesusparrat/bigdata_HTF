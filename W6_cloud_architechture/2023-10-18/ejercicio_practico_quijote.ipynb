{
 "cells": [
  {
   "cell_type": "code",
   "execution_count": 0,
   "metadata": {
    "application/vnd.databricks.v1+cell": {
     "cellMetadata": {
      "byteLimit": 2048000,
      "rowLimit": 10000
     },
     "inputWidgets": {},
     "nuid": "55d62ba9-d03e-40e6-acd2-deb0ff8ff616",
     "showTitle": false,
     "title": ""
    }
   },
   "outputs": [],
   "source": [
    "# EJERCICIO PRÁCTICO 1. CONTAR PALABRAS DE UN ARCHIVO DE TEXTO"
   ]
  },
  {
   "cell_type": "code",
   "execution_count": 0,
   "metadata": {
    "application/vnd.databricks.v1+cell": {
     "cellMetadata": {
      "byteLimit": 2048000,
      "rowLimit": 10000
     },
     "inputWidgets": {},
     "nuid": "df1e40bb-e99d-49e3-8feb-e77353641907",
     "showTitle": false,
     "title": ""
    }
   },
   "outputs": [],
   "source": [
    "file = 'dbfs:/FileStore/shared_uploads/jesuspt98@gmail.com/quijote.txt'"
   ]
  },
  {
   "cell_type": "code",
   "execution_count": 0,
   "metadata": {
    "application/vnd.databricks.v1+cell": {
     "cellMetadata": {
      "byteLimit": 2048000,
      "rowLimit": 10000
     },
     "inputWidgets": {},
     "nuid": "82a351bf-39d5-4863-a2d0-215dd8dc5e5e",
     "showTitle": false,
     "title": ""
    }
   },
   "outputs": [],
   "source": [
    "lineas = sc.textFile(file)"
   ]
  },
  {
   "cell_type": "code",
   "execution_count": 0,
   "metadata": {
    "application/vnd.databricks.v1+cell": {
     "cellMetadata": {
      "byteLimit": 2048000,
      "rowLimit": 10000
     },
     "inputWidgets": {},
     "nuid": "db7a9d08-7365-445c-b068-69a8d1249501",
     "showTitle": false,
     "title": ""
    }
   },
   "outputs": [
    {
     "output_type": "stream",
     "name": "stdout",
     "output_type": "stream",
     "text": [
      "Out[46]: [['Capítulo',\n  'primero.',\n  'Que',\n  'trata',\n  'de',\n  'la',\n  'condición',\n  'y',\n  'ejercicio',\n  'del',\n  'famoso',\n  'hidalgo'],\n ['don', 'Quijote', 'de', 'la', 'Mancha'],\n [],\n [],\n ['En',\n  'un',\n  'lugar',\n  'de',\n  'la',\n  'Mancha,',\n  'de',\n  'cuyo',\n  'nombre',\n  'no',\n  'quiero',\n  'acordarme,',\n  'no',\n  'ha',\n  'mucho']]"
     ]
    }
   ],
   "source": [
    "lista_palabras = lineas.map(lambda elemento: elemento.split())\n",
    "\n",
    "lista_palabras.take(5)"
   ]
  },
  {
   "cell_type": "code",
   "execution_count": 0,
   "metadata": {
    "application/vnd.databricks.v1+cell": {
     "cellMetadata": {
      "byteLimit": 2048000,
      "rowLimit": 10000
     },
     "inputWidgets": {},
     "nuid": "a05ddf67-90e3-42cc-b873-cb836559e86f",
     "showTitle": false,
     "title": ""
    }
   },
   "outputs": [
    {
     "output_type": "stream",
     "name": "stdout",
     "output_type": "stream",
     "text": [
      "376499.99999999895\n"
     ]
    }
   ],
   "source": [
    "palabras_linea = lista_palabras.map(lambda elemento: len(elemento))\n",
    "\n",
    "cuantas_lineas = palabras_linea.count() # esto es el número de líneas\n",
    "numero_palabras_x_linea = palabras_linea.mean() # esto es el número de palabras por línea\n",
    "print(cuantas_lineas*numero_palabras_x_linea) # esto es una comprobación para ver que las líneas que hay por la media de palabras por línea da las palabras totales"
   ]
  },
  {
   "cell_type": "code",
   "execution_count": 0,
   "metadata": {
    "application/vnd.databricks.v1+cell": {
     "cellMetadata": {
      "byteLimit": 2048000,
      "rowLimit": 10000
     },
     "inputWidgets": {},
     "nuid": "ec2529d4-26b7-436f-9015-569892f57e29",
     "showTitle": false,
     "title": ""
    }
   },
   "outputs": [
    {
     "output_type": "stream",
     "name": "stdout",
     "output_type": "stream",
     "text": [
      "Out[48]: 376500"
     ]
    }
   ],
   "source": [
    "palabras_linea.reduce(lambda e1, e2: e1 + e2)"
   ]
  },
  {
   "cell_type": "code",
   "execution_count": 0,
   "metadata": {
    "application/vnd.databricks.v1+cell": {
     "cellMetadata": {
      "byteLimit": 2048000,
      "rowLimit": 10000
     },
     "inputWidgets": {},
     "nuid": "4e69ef0b-6200-4cc5-a9f0-d2bbf6220b6d",
     "showTitle": false,
     "title": ""
    }
   },
   "outputs": [
    {
     "output_type": "stream",
     "name": "stdout",
     "output_type": "stream",
     "text": [
      "Out[49]: 376500"
     ]
    }
   ],
   "source": [
    "#mucho más sencillo utilizar un flatMap que un map ya que en map tenemos que ir paso a paso con las líneas, las palabras en las líneas etc\n",
    "num_palabras = lineas.flatMap(lambda elemento: elemento.split())\n",
    "\n",
    "num_palabras.count()"
   ]
  },
  {
   "cell_type": "code",
   "execution_count": 0,
   "metadata": {
    "application/vnd.databricks.v1+cell": {
     "cellMetadata": {
      "byteLimit": 2048000,
      "rowLimit": 10000
     },
     "inputWidgets": {},
     "nuid": "d00a30eb-ffd0-4dac-aaac-7d8f08db1270",
     "showTitle": false,
     "title": ""
    }
   },
   "outputs": [
    {
     "output_type": "stream",
     "name": "stdout",
     "output_type": "stream",
     "text": [
      "Out[50]: ['Capítulo primero. Que trata de la condición y ejercicio del famoso hidalgo',\n 'don Quijote de la Mancha',\n '',\n '',\n 'En un lugar de la Mancha, de cuyo nombre no quiero acordarme, no ha mucho']"
     ]
    }
   ],
   "source": [
    "lineas = sc.textFile(file)\n",
    "\n",
    "lineas.take(5)"
   ]
  },
  {
   "cell_type": "code",
   "execution_count": 0,
   "metadata": {
    "application/vnd.databricks.v1+cell": {
     "cellMetadata": {
      "byteLimit": 2048000,
      "rowLimit": 10000
     },
     "inputWidgets": {},
     "nuid": "23679f59-b376-470f-b84c-f50d1fa12190",
     "showTitle": false,
     "title": ""
    }
   },
   "outputs": [
    {
     "output_type": "stream",
     "name": "stdout",
     "output_type": "stream",
     "text": [
      "Out[51]: 376500"
     ]
    }
   ],
   "source": [
    "lineas.flatMap(lambda elemento: elemento.split()).count() # si necesitamos brevedad se puede en una línea"
   ]
  },
  {
   "cell_type": "code",
   "execution_count": 0,
   "metadata": {
    "application/vnd.databricks.v1+cell": {
     "cellMetadata": {
      "byteLimit": 2048000,
      "rowLimit": 10000
     },
     "inputWidgets": {},
     "nuid": "5881d18d-6f0f-498d-b247-b6c1994ed662",
     "showTitle": false,
     "title": ""
    }
   },
   "outputs": [
    {
     "output_type": "display_data",
     "data": {
      "text/plain": [
       "\u001B[0;31m---------------------------------------------------------------------------\u001B[0m\n",
       "\u001B[0;31mAttributeError\u001B[0m                            Traceback (most recent call last)\n",
       "File \u001B[0;32m<command-2583859428300959>:1\u001B[0m\n",
       "\u001B[0;32m----> 1\u001B[0m lista_palabras \u001B[38;5;241m=\u001B[39m lineas\u001B[38;5;241m.\u001B[39mflateMap(\u001B[38;5;28;01mlambda\u001B[39;00m elemento: elemento\u001B[38;5;241m.\u001B[39msplit())\n",
       "\u001B[1;32m      3\u001B[0m lista_palabras\u001B[38;5;241m.\u001B[39mcollect()\n",
       "\n",
       "\u001B[0;31mAttributeError\u001B[0m: 'RDD' object has no attribute 'flateMap'"
      ]
     },
     "metadata": {
      "application/vnd.databricks.v1+output": {
       "arguments": {},
       "data": "\u001B[0;31m---------------------------------------------------------------------------\u001B[0m\n\u001B[0;31mAttributeError\u001B[0m                            Traceback (most recent call last)\nFile \u001B[0;32m<command-2583859428300959>:1\u001B[0m\n\u001B[0;32m----> 1\u001B[0m lista_palabras \u001B[38;5;241m=\u001B[39m lineas\u001B[38;5;241m.\u001B[39mflateMap(\u001B[38;5;28;01mlambda\u001B[39;00m elemento: elemento\u001B[38;5;241m.\u001B[39msplit())\n\u001B[1;32m      3\u001B[0m lista_palabras\u001B[38;5;241m.\u001B[39mcollect()\n\n\u001B[0;31mAttributeError\u001B[0m: 'RDD' object has no attribute 'flateMap'",
       "errorSummary": "<span class='ansi-red-fg'>AttributeError</span>: 'RDD' object has no attribute 'flateMap'",
       "errorTraceType": "ansi",
       "metadata": {},
       "type": "ipynbError"
      }
     },
     "output_type": "display_data"
    }
   ],
   "source": [
    "lista_palabras = lineas.flateMap(lambda elemento: elemento.split())\n",
    "\n",
    "lista_palabras.collect()"
   ]
  }
 ],
 "metadata": {
  "application/vnd.databricks.v1+notebook": {
   "dashboards": [],
   "language": "python",
   "notebookMetadata": {
    "pythonIndentUnit": 4
   },
   "notebookName": "ejercicio_practico_txt",
   "widgets": {}
  }
 },
 "nbformat": 4,
 "nbformat_minor": 0
}
